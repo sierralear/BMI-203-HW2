{
 "cells": [
  {
   "cell_type": "code",
   "execution_count": 166,
   "metadata": {},
   "outputs": [],
   "source": [
    "from hw2skeleton import io, cluster, utils\n",
    "import numpy as np\n",
    "import seaborn as sns\n",
    "import matplotlib.pyplot as plt\n",
    "from collections import Counter\n",
    "from itertools import product\n",
    "import pandas as pd\n",
    "from sklearn.decomposition import PCA"
   ]
  },
  {
   "cell_type": "code",
   "execution_count": 12,
   "metadata": {},
   "outputs": [
    {
     "name": "stdout",
     "output_type": "stream",
     "text": [
      "Read in 136 active sites\n"
     ]
    }
   ],
   "source": [
    "path = '/Users/Sisi/Documents/GitHub/BMI-203-HW2/data' #Note: may have to change the path when uploading into GitHub?\n",
    "\n",
    "active_site = io.read_active_sites(path);"
   ]
  },
  {
   "cell_type": "code",
   "execution_count": 15,
   "metadata": {},
   "outputs": [
    {
     "data": {
      "text/plain": [
       "[ASP 165, ASP 167, SER 211, ARG 213, ASP 254, LYS 258, ASP 278]"
      ]
     },
     "execution_count": 15,
     "metadata": {},
     "output_type": "execute_result"
    }
   ],
   "source": [
    "active_site[0].residues"
   ]
  },
  {
   "cell_type": "code",
   "execution_count": 93,
   "metadata": {},
   "outputs": [
    {
     "data": {
      "text/plain": [
       "'ASP'"
      ]
     },
     "execution_count": 93,
     "metadata": {},
     "output_type": "execute_result"
    }
   ],
   "source": [
    "active_site[3].residues[0].type"
   ]
  },
  {
   "cell_type": "code",
   "execution_count": 95,
   "metadata": {},
   "outputs": [
    {
     "data": {
      "text/plain": [
       "['ASP', 'ASP', 'SER', 'ARG', 'ASP', 'LYS', 'ASP']"
      ]
     },
     "execution_count": 95,
     "metadata": {},
     "output_type": "execute_result"
    }
   ],
   "source": [
    "list_res = []\n",
    "for r in active_site[0].residues:\n",
    "    list_res.append(r.type)\n",
    "list_res"
   ]
  },
  {
   "cell_type": "code",
   "execution_count": 96,
   "metadata": {},
   "outputs": [
    {
     "data": {
      "text/plain": [
       "['ASP', 'ASP', 'SER', 'ARG', 'ASP', 'LYS', 'ASP']"
      ]
     },
     "execution_count": 96,
     "metadata": {},
     "output_type": "execute_result"
    }
   ],
   "source": [
    "list_res_2 = [r.type for r in active_site[0].residues]\n",
    "list_res_2"
   ]
  },
  {
   "cell_type": "code",
   "execution_count": null,
   "metadata": {},
   "outputs": [],
   "source": [
    "path = '/Users/Sisi/Documents/GitHub/BMI-203-HW2/data' #Note: may have to change the path when uploading into GitHub?\n",
    "\n",
    "read_active_sites(path);\n",
    "write_clustering(ActiveSite, clusters)"
   ]
  },
  {
   "cell_type": "code",
   "execution_count": null,
   "metadata": {},
   "outputs": [],
   "source": [
    "ActiveSite(0), residues"
   ]
  },
  {
   "cell_type": "markdown",
   "metadata": {},
   "source": [
    "## Objective #1:\n",
    "*Implement a similarity metric to compare active sites.*"
   ]
  },
  {
   "cell_type": "markdown",
   "metadata": {},
   "source": [
    "For my similarity metric, I want to calculate the number of a given amino acid in an active site. I can then calculate the Euclidan distance based on the 20-D space constructed by the ratio of all 20 different amino acids.\n",
    "\n",
    "One one hand, this obviously simplifies or \"ignores\" important functional information, namely the 3D structure/configuration of amino acids or residues in relation to each other as well as the number of residues or how \"large\" an active site is.\n",
    "\n",
    "However, given my inexperience with enzyme function, I am hypothesizing that the overall \"chemical identity\" of a residue still gives an important clue to its function--in particular, two active sites that contain more of the same amino acids are more likely to be functionally similar or have similar roles than two residues that contain no overlapping amino acids. Furthermore, given that some amino acids have specific charges or hydrophobicity, I know that amino acids often drive structure, so I also hypothesize that some of this \"lost\" structural information will actually be redundant or contained within the ratio or identity of amino acids anyway."
   ]
  },
  {
   "cell_type": "code",
   "execution_count": 79,
   "metadata": {},
   "outputs": [
    {
     "data": {
      "text/plain": [
       "136"
      ]
     },
     "execution_count": 79,
     "metadata": {},
     "output_type": "execute_result"
    }
   ],
   "source": [
    "len(active_site)"
   ]
  },
  {
   "cell_type": "code",
   "execution_count": 81,
   "metadata": {},
   "outputs": [],
   "source": [
    "combos = list(product(range(0,len(active_site)), range(0,len(active_site))))"
   ]
  },
  {
   "cell_type": "code",
   "execution_count": 115,
   "metadata": {},
   "outputs": [],
   "source": [
    "my_aa = ['ALA', 'ARG', 'ASN', 'ASP', 'CYS', 'GLN', 'GLU', 'GLY', 'HIS', 'ILE', 'LEU', 'LYS',\n",
    "         'MET', 'PHE', 'PRO', 'SER', 'THR', 'TRP', 'TYR', 'VAL']\n",
    "\n",
    "def compute_similarity(site_a, site_b):\n",
    "    \"\"\"\n",
    "    Compute the similarity between two given ActiveSite instances.\n",
    "\n",
    "    Input: two ActiveSite instances\n",
    "    Output: the similarity between them (a floating point number)\n",
    "    \"\"\"\n",
    "\n",
    "    similarity = 0.0\n",
    "    \n",
    "    #creating list comprehension of all AAs for site a residues\n",
    "    list_res_a = [r.type for r in site_a.residues]\n",
    "    \n",
    "    #creating list comprehension of all AAs for site b residues\n",
    "    list_res_b = [r.type for r in site_b.residues]\n",
    "    \n",
    "    #create two histogram count lists for site a and b from the list comprehensions\n",
    "    count_a = Counter(list_res_a)\n",
    "    count_b = Counter(list_res_b)\n",
    "    \n",
    "    #initialize two 20-element AA dictionaries: one for site A, one for site B\n",
    "    a_dict = {aa:0 for aa in my_aa}\n",
    "    b_dict = {aa:0 for aa in my_aa}\n",
    "    \n",
    "    #convert histogram count into the 20-D vector AA dictionary\n",
    "    #a site\n",
    "    for aa, count in count_a.items():\n",
    "        a_dict[aa] = count\n",
    "    a_vector = np.array(list(a_dict.values()))\n",
    "    #b site\n",
    "    for aa, count in count_b.items():\n",
    "        b_dict[aa] = count\n",
    "    b_vector = np.array(list(b_dict.values()))\n",
    "        \n",
    "    #calculate Euclidian distance between the two sites' 20-D vectors\n",
    "    similarity = np.sqrt(np.sum((a_vector - b_vector)**2))\n",
    "    \n",
    "    return similarity"
   ]
  },
  {
   "cell_type": "code",
   "execution_count": 119,
   "metadata": {},
   "outputs": [
    {
     "data": {
      "text/html": [
       "<div>\n",
       "<style scoped>\n",
       "    .dataframe tbody tr th:only-of-type {\n",
       "        vertical-align: middle;\n",
       "    }\n",
       "\n",
       "    .dataframe tbody tr th {\n",
       "        vertical-align: top;\n",
       "    }\n",
       "\n",
       "    .dataframe thead th {\n",
       "        text-align: right;\n",
       "    }\n",
       "</style>\n",
       "<table border=\"1\" class=\"dataframe\">\n",
       "  <thead>\n",
       "    <tr style=\"text-align: right;\">\n",
       "      <th></th>\n",
       "      <th>Site_A</th>\n",
       "      <th>Site_B</th>\n",
       "      <th>Similarity</th>\n",
       "    </tr>\n",
       "  </thead>\n",
       "  <tbody>\n",
       "    <tr>\n",
       "      <th>0</th>\n",
       "      <td>0.0</td>\n",
       "      <td>0.0</td>\n",
       "      <td>0.000000</td>\n",
       "    </tr>\n",
       "    <tr>\n",
       "      <th>1</th>\n",
       "      <td>0.0</td>\n",
       "      <td>1.0</td>\n",
       "      <td>3.000000</td>\n",
       "    </tr>\n",
       "    <tr>\n",
       "      <th>2</th>\n",
       "      <td>0.0</td>\n",
       "      <td>2.0</td>\n",
       "      <td>4.358899</td>\n",
       "    </tr>\n",
       "    <tr>\n",
       "      <th>3</th>\n",
       "      <td>0.0</td>\n",
       "      <td>3.0</td>\n",
       "      <td>4.795832</td>\n",
       "    </tr>\n",
       "    <tr>\n",
       "      <th>4</th>\n",
       "      <td>0.0</td>\n",
       "      <td>4.0</td>\n",
       "      <td>2.645751</td>\n",
       "    </tr>\n",
       "  </tbody>\n",
       "</table>\n",
       "</div>"
      ],
      "text/plain": [
       "   Site_A  Site_B  Similarity\n",
       "0     0.0     0.0    0.000000\n",
       "1     0.0     1.0    3.000000\n",
       "2     0.0     2.0    4.358899\n",
       "3     0.0     3.0    4.795832\n",
       "4     0.0     4.0    2.645751"
      ]
     },
     "execution_count": 119,
     "metadata": {},
     "output_type": "execute_result"
    }
   ],
   "source": [
    "df = pd.DataFrame(columns = ['Site_A', 'Site_B', 'Similarity'])\n",
    "for a, b in combos:\n",
    "    similarity = compute_similarity(active_site[a], active_site[b])\n",
    "    df = df.append({'Site_A': a, 'Site_B': b, 'Similarity': similarity}, ignore_index=True)\n",
    "df.head()"
   ]
  },
  {
   "cell_type": "code",
   "execution_count": 127,
   "metadata": {},
   "outputs": [
    {
     "data": {
      "text/html": [
       "<div>\n",
       "<style scoped>\n",
       "    .dataframe tbody tr th:only-of-type {\n",
       "        vertical-align: middle;\n",
       "    }\n",
       "\n",
       "    .dataframe tbody tr th {\n",
       "        vertical-align: top;\n",
       "    }\n",
       "\n",
       "    .dataframe thead th {\n",
       "        text-align: right;\n",
       "    }\n",
       "</style>\n",
       "<table border=\"1\" class=\"dataframe\">\n",
       "  <thead>\n",
       "    <tr style=\"text-align: right;\">\n",
       "      <th></th>\n",
       "      <th>Site_A</th>\n",
       "      <th>Site_B</th>\n",
       "      <th>Similarity</th>\n",
       "    </tr>\n",
       "  </thead>\n",
       "  <tbody>\n",
       "    <tr>\n",
       "      <th>18490</th>\n",
       "      <td>135.0</td>\n",
       "      <td>130.0</td>\n",
       "      <td>6.403124</td>\n",
       "    </tr>\n",
       "    <tr>\n",
       "      <th>18491</th>\n",
       "      <td>135.0</td>\n",
       "      <td>131.0</td>\n",
       "      <td>6.324555</td>\n",
       "    </tr>\n",
       "    <tr>\n",
       "      <th>18492</th>\n",
       "      <td>135.0</td>\n",
       "      <td>132.0</td>\n",
       "      <td>10.198039</td>\n",
       "    </tr>\n",
       "    <tr>\n",
       "      <th>18493</th>\n",
       "      <td>135.0</td>\n",
       "      <td>133.0</td>\n",
       "      <td>6.324555</td>\n",
       "    </tr>\n",
       "    <tr>\n",
       "      <th>18494</th>\n",
       "      <td>135.0</td>\n",
       "      <td>134.0</td>\n",
       "      <td>8.544004</td>\n",
       "    </tr>\n",
       "  </tbody>\n",
       "</table>\n",
       "</div>"
      ],
      "text/plain": [
       "       Site_A  Site_B  Similarity\n",
       "18490   135.0   130.0    6.403124\n",
       "18491   135.0   131.0    6.324555\n",
       "18492   135.0   132.0   10.198039\n",
       "18493   135.0   133.0    6.324555\n",
       "18494   135.0   134.0    8.544004"
      ]
     },
     "execution_count": 127,
     "metadata": {},
     "output_type": "execute_result"
    }
   ],
   "source": [
    "df = df.loc[~(df[\"Site_A\"] == df[\"Site_B\"]), :] #remove all rows where Site_A == Site_B\n",
    "df.tail()"
   ]
  },
  {
   "cell_type": "code",
   "execution_count": null,
   "metadata": {},
   "outputs": [],
   "source": [
    "plt.figure()\n",
    "plt.plot(x,y)\n",
    "plt.show()"
   ]
  },
  {
   "cell_type": "code",
   "execution_count": 195,
   "metadata": {},
   "outputs": [
    {
     "data": {
      "text/plain": [
       "<matplotlib.axes._subplots.AxesSubplot at 0x1a20be92e8>"
      ]
     },
     "execution_count": 195,
     "metadata": {},
     "output_type": "execute_result"
    },
    {
     "data": {
      "image/png": "[encoded data removed]",
      "text/plain": [
       "<Figure size 432x288 with 1 Axes>"
      ]
     },
     "metadata": {},
     "output_type": "display_data"
    }
   ],
   "source": [
    "sns.distplot(df[\"Similarity\"], bins=50, norm_hist=False, kde=False)"
   ]
  },
  {
   "cell_type": "code",
   "execution_count": 194,
   "metadata": {},
   "outputs": [
    {
     "data": {
      "image/png": "[encoded data removed]",
      "text/plain": [
       "<Figure size 432x288 with 1 Axes>"
      ]
     },
     "metadata": {},
     "output_type": "display_data"
    }
   ],
   "source": [
    "f, ax_me = plt.subplots()\n",
    "sns.distplot(df[\"Similarity\"], bins=50, norm_hist=False, kde=False, ax=ax_me)\n",
    "ax_me.set(ylim=[0,300])\n",
    "plt.show()"
   ]
  },
  {
   "cell_type": "markdown",
   "metadata": {},
   "source": [
    "## Objective #2: \n",
    "*Implement a partitioning algorithm to cluster the set of active sites.* \n"
   ]
  },
  {
   "cell_type": "code",
   "execution_count": null,
   "metadata": {},
   "outputs": [],
   "source": [
    "vector = pd.DataFrame(index = '', columns = ['Site_A', 'Site_B', 'Similarity'])"
   ]
  },
  {
   "cell_type": "code",
   "execution_count": 138,
   "metadata": {},
   "outputs": [
    {
     "data": {
      "text/plain": [
       "'46495'"
      ]
     },
     "execution_count": 138,
     "metadata": {},
     "output_type": "execute_result"
    }
   ],
   "source": [
    "active_site[0].name"
   ]
  },
  {
   "cell_type": "code",
   "execution_count": 140,
   "metadata": {},
   "outputs": [
    {
     "data": {
      "text/plain": [
       "MultiIndex([('a.name', 0,  0),\n",
       "            ('a.name', 0,  1),\n",
       "            ('a.name', 0,  2),\n",
       "            ('a.name', 0,  3),\n",
       "            ('a.name', 0,  4),\n",
       "            ('a.name', 0,  5),\n",
       "            ('a.name', 0,  6),\n",
       "            ('a.name', 0,  7),\n",
       "            ('a.name', 0,  8),\n",
       "            ('a.name', 0,  9),\n",
       "            ('a.name', 0, 10),\n",
       "            ('a.name', 0, 11),\n",
       "            ('a.name', 0, 12),\n",
       "            ('a.name', 0, 13),\n",
       "            ('a.name', 0, 14),\n",
       "            ('a.name', 0, 15),\n",
       "            ('a.name', 0, 16),\n",
       "            ('a.name', 0, 17),\n",
       "            ('a.name', 0, 18),\n",
       "            ('a.name', 0, 19)],\n",
       "           names=['original_id', 'sequential_id', 'amino_acid_ID'])"
      ]
     },
     "execution_count": 140,
     "metadata": {},
     "output_type": "execute_result"
    }
   ],
   "source": [
    "pd.MultiIndex.from_product([['a.name'], [0], np.arange(0,20)], \n",
    "                                      names=['original_id', 'sequential_id', 'amino_acid_ID'])"
   ]
  },
  {
   "cell_type": "code",
   "execution_count": null,
   "metadata": {},
   "outputs": [],
   "source": []
  },
  {
   "cell_type": "code",
   "execution_count": 158,
   "metadata": {},
   "outputs": [],
   "source": [
    "output_df = pd.DataFrame()\n",
    "\n",
    "for i, a in enumerate(active_site):\n",
    "    list_res = [r.type for r in a.residues]\n",
    "    count_aa = Counter(list_res)\n",
    "    aa_dict = {aa:0 for aa in my_aa}\n",
    "    for aa, count in count_aa.items():\n",
    "        aa_dict[aa] = count\n",
    "    aa_vec = np.array(list(aa_dict.values()))\n",
    "    midx = pd.MultiIndex.from_product([[i], np.arange(0,len(aa_vec))], \n",
    "                                      names=['sequential_id', 'amino_acid_ID'])\n",
    "    temp_df = pd.DataFrame({'aa_counts' : aa_vec}, index=midx)\n",
    "    output_df = output_df.append(temp_df)"
   ]
  },
  {
   "cell_type": "code",
   "execution_count": 145,
   "metadata": {},
   "outputs": [],
   "source": [
    "idx_slicer = pd.IndexSlice"
   ]
  },
  {
   "cell_type": "code",
   "execution_count": 159,
   "metadata": {},
   "outputs": [
    {
     "name": "stdout",
     "output_type": "stream",
     "text": [
      "<class 'pandas.core.frame.DataFrame'>\n",
      "MultiIndex: 2720 entries, (0, 0) to (135, 19)\n",
      "Data columns (total 1 columns):\n",
      "aa_counts    2720 non-null int64\n",
      "dtypes: int64(1)\n",
      "memory usage: 30.6 KB\n"
     ]
    }
   ],
   "source": [
    "output_df.info()"
   ]
  },
  {
   "cell_type": "code",
   "execution_count": null,
   "metadata": {},
   "outputs": [],
   "source": []
  },
  {
   "cell_type": "code",
   "execution_count": 161,
   "metadata": {},
   "outputs": [
    {
     "data": {
      "text/html": [
       "<div>\n",
       "<style scoped>\n",
       "    .dataframe tbody tr th:only-of-type {\n",
       "        vertical-align: middle;\n",
       "    }\n",
       "\n",
       "    .dataframe tbody tr th {\n",
       "        vertical-align: top;\n",
       "    }\n",
       "\n",
       "    .dataframe thead th {\n",
       "        text-align: right;\n",
       "    }\n",
       "</style>\n",
       "<table border=\"1\" class=\"dataframe\">\n",
       "  <thead>\n",
       "    <tr style=\"text-align: right;\">\n",
       "      <th></th>\n",
       "      <th></th>\n",
       "      <th>aa_counts</th>\n",
       "    </tr>\n",
       "    <tr>\n",
       "      <th>sequential_id</th>\n",
       "      <th>amino_acid_ID</th>\n",
       "      <th></th>\n",
       "    </tr>\n",
       "  </thead>\n",
       "  <tbody>\n",
       "    <tr>\n",
       "      <th rowspan=\"20\" valign=\"top\">0</th>\n",
       "      <th>0</th>\n",
       "      <td>0</td>\n",
       "    </tr>\n",
       "    <tr>\n",
       "      <th>1</th>\n",
       "      <td>1</td>\n",
       "    </tr>\n",
       "    <tr>\n",
       "      <th>2</th>\n",
       "      <td>0</td>\n",
       "    </tr>\n",
       "    <tr>\n",
       "      <th>3</th>\n",
       "      <td>4</td>\n",
       "    </tr>\n",
       "    <tr>\n",
       "      <th>4</th>\n",
       "      <td>0</td>\n",
       "    </tr>\n",
       "    <tr>\n",
       "      <th>5</th>\n",
       "      <td>0</td>\n",
       "    </tr>\n",
       "    <tr>\n",
       "      <th>6</th>\n",
       "      <td>0</td>\n",
       "    </tr>\n",
       "    <tr>\n",
       "      <th>7</th>\n",
       "      <td>0</td>\n",
       "    </tr>\n",
       "    <tr>\n",
       "      <th>8</th>\n",
       "      <td>0</td>\n",
       "    </tr>\n",
       "    <tr>\n",
       "      <th>9</th>\n",
       "      <td>0</td>\n",
       "    </tr>\n",
       "    <tr>\n",
       "      <th>10</th>\n",
       "      <td>0</td>\n",
       "    </tr>\n",
       "    <tr>\n",
       "      <th>11</th>\n",
       "      <td>1</td>\n",
       "    </tr>\n",
       "    <tr>\n",
       "      <th>12</th>\n",
       "      <td>0</td>\n",
       "    </tr>\n",
       "    <tr>\n",
       "      <th>13</th>\n",
       "      <td>0</td>\n",
       "    </tr>\n",
       "    <tr>\n",
       "      <th>14</th>\n",
       "      <td>0</td>\n",
       "    </tr>\n",
       "    <tr>\n",
       "      <th>15</th>\n",
       "      <td>1</td>\n",
       "    </tr>\n",
       "    <tr>\n",
       "      <th>16</th>\n",
       "      <td>0</td>\n",
       "    </tr>\n",
       "    <tr>\n",
       "      <th>17</th>\n",
       "      <td>0</td>\n",
       "    </tr>\n",
       "    <tr>\n",
       "      <th>18</th>\n",
       "      <td>0</td>\n",
       "    </tr>\n",
       "    <tr>\n",
       "      <th>19</th>\n",
       "      <td>0</td>\n",
       "    </tr>\n",
       "  </tbody>\n",
       "</table>\n",
       "</div>"
      ],
      "text/plain": [
       "                             aa_counts\n",
       "sequential_id amino_acid_ID           \n",
       "0             0                      0\n",
       "              1                      1\n",
       "              2                      0\n",
       "              3                      4\n",
       "              4                      0\n",
       "              5                      0\n",
       "              6                      0\n",
       "              7                      0\n",
       "              8                      0\n",
       "              9                      0\n",
       "              10                     0\n",
       "              11                     1\n",
       "              12                     0\n",
       "              13                     0\n",
       "              14                     0\n",
       "              15                     1\n",
       "              16                     0\n",
       "              17                     0\n",
       "              18                     0\n",
       "              19                     0"
      ]
     },
     "execution_count": 161,
     "metadata": {},
     "output_type": "execute_result"
    }
   ],
   "source": [
    "output_df.loc[idx_slicer[0,:],:]"
   ]
  },
  {
   "cell_type": "code",
   "execution_count": 174,
   "metadata": {},
   "outputs": [
    {
     "data": {
      "text/plain": [
       "array([[-0.35,  0.65, -0.35, ..., -0.35, -0.35, -0.35],\n",
       "       [-0.3 , -0.3 , -0.3 , ..., -0.3 , -0.3 , -0.3 ],\n",
       "       [-0.7 , -0.7 , -0.7 , ..., -0.7 , -0.7 , -0.7 ],\n",
       "       ...,\n",
       "       [-0.6 , -0.6 , -0.6 , ..., -0.6 , -0.6 , -0.6 ],\n",
       "       [-0.25, -0.25, -0.25, ..., -0.25, -0.25, -0.25],\n",
       "       [-0.6 , -0.6 , -0.6 , ..., -0.6 , -0.6 , -0.6 ]])"
      ]
     },
     "execution_count": 174,
     "metadata": {},
     "output_type": "execute_result"
    }
   ],
   "source": [
    "output_df.unstack('sequential_id').T.apply(lambda x: x - x.mean(), axis = 1).to_numpy()"
   ]
  },
  {
   "cell_type": "code",
   "execution_count": 149,
   "metadata": {},
   "outputs": [
    {
     "data": {
      "text/html": [
       "<div>\n",
       "<style scoped>\n",
       "    .dataframe tbody tr th:only-of-type {\n",
       "        vertical-align: middle;\n",
       "    }\n",
       "\n",
       "    .dataframe tbody tr th {\n",
       "        vertical-align: top;\n",
       "    }\n",
       "\n",
       "    .dataframe thead tr th {\n",
       "        text-align: left;\n",
       "    }\n",
       "\n",
       "    .dataframe thead tr:last-of-type th {\n",
       "        text-align: right;\n",
       "    }\n",
       "</style>\n",
       "<table border=\"1\" class=\"dataframe\">\n",
       "  <thead>\n",
       "    <tr>\n",
       "      <th></th>\n",
       "      <th></th>\n",
       "      <th colspan=\"21\" halign=\"left\">aa_counts</th>\n",
       "    </tr>\n",
       "    <tr>\n",
       "      <th></th>\n",
       "      <th>original_id</th>\n",
       "      <th>276</th>\n",
       "      <th>1806</th>\n",
       "      <th>3458</th>\n",
       "      <th>3733</th>\n",
       "      <th>4629</th>\n",
       "      <th>6040</th>\n",
       "      <th>7674</th>\n",
       "      <th>7780</th>\n",
       "      <th>8208</th>\n",
       "      <th>8304</th>\n",
       "      <th>...</th>\n",
       "      <th>93192</th>\n",
       "      <th>93456</th>\n",
       "      <th>94372</th>\n",
       "      <th>94652</th>\n",
       "      <th>94719</th>\n",
       "      <th>96099</th>\n",
       "      <th>97218</th>\n",
       "      <th>97612</th>\n",
       "      <th>98170</th>\n",
       "      <th>98797</th>\n",
       "    </tr>\n",
       "    <tr>\n",
       "      <th>sequential_id</th>\n",
       "      <th>amino_acid_ID</th>\n",
       "      <th></th>\n",
       "      <th></th>\n",
       "      <th></th>\n",
       "      <th></th>\n",
       "      <th></th>\n",
       "      <th></th>\n",
       "      <th></th>\n",
       "      <th></th>\n",
       "      <th></th>\n",
       "      <th></th>\n",
       "      <th></th>\n",
       "      <th></th>\n",
       "      <th></th>\n",
       "      <th></th>\n",
       "      <th></th>\n",
       "      <th></th>\n",
       "      <th></th>\n",
       "      <th></th>\n",
       "      <th></th>\n",
       "      <th></th>\n",
       "      <th></th>\n",
       "    </tr>\n",
       "  </thead>\n",
       "  <tbody>\n",
       "    <tr>\n",
       "      <th rowspan=\"5\" valign=\"top\">0</th>\n",
       "      <th>0</th>\n",
       "      <td>NaN</td>\n",
       "      <td>NaN</td>\n",
       "      <td>NaN</td>\n",
       "      <td>NaN</td>\n",
       "      <td>NaN</td>\n",
       "      <td>NaN</td>\n",
       "      <td>NaN</td>\n",
       "      <td>NaN</td>\n",
       "      <td>NaN</td>\n",
       "      <td>NaN</td>\n",
       "      <td>...</td>\n",
       "      <td>NaN</td>\n",
       "      <td>NaN</td>\n",
       "      <td>NaN</td>\n",
       "      <td>NaN</td>\n",
       "      <td>NaN</td>\n",
       "      <td>NaN</td>\n",
       "      <td>NaN</td>\n",
       "      <td>NaN</td>\n",
       "      <td>NaN</td>\n",
       "      <td>NaN</td>\n",
       "    </tr>\n",
       "    <tr>\n",
       "      <th>1</th>\n",
       "      <td>NaN</td>\n",
       "      <td>NaN</td>\n",
       "      <td>NaN</td>\n",
       "      <td>NaN</td>\n",
       "      <td>NaN</td>\n",
       "      <td>NaN</td>\n",
       "      <td>NaN</td>\n",
       "      <td>NaN</td>\n",
       "      <td>NaN</td>\n",
       "      <td>NaN</td>\n",
       "      <td>...</td>\n",
       "      <td>NaN</td>\n",
       "      <td>NaN</td>\n",
       "      <td>NaN</td>\n",
       "      <td>NaN</td>\n",
       "      <td>NaN</td>\n",
       "      <td>NaN</td>\n",
       "      <td>NaN</td>\n",
       "      <td>NaN</td>\n",
       "      <td>NaN</td>\n",
       "      <td>NaN</td>\n",
       "    </tr>\n",
       "    <tr>\n",
       "      <th>2</th>\n",
       "      <td>NaN</td>\n",
       "      <td>NaN</td>\n",
       "      <td>NaN</td>\n",
       "      <td>NaN</td>\n",
       "      <td>NaN</td>\n",
       "      <td>NaN</td>\n",
       "      <td>NaN</td>\n",
       "      <td>NaN</td>\n",
       "      <td>NaN</td>\n",
       "      <td>NaN</td>\n",
       "      <td>...</td>\n",
       "      <td>NaN</td>\n",
       "      <td>NaN</td>\n",
       "      <td>NaN</td>\n",
       "      <td>NaN</td>\n",
       "      <td>NaN</td>\n",
       "      <td>NaN</td>\n",
       "      <td>NaN</td>\n",
       "      <td>NaN</td>\n",
       "      <td>NaN</td>\n",
       "      <td>NaN</td>\n",
       "    </tr>\n",
       "    <tr>\n",
       "      <th>3</th>\n",
       "      <td>NaN</td>\n",
       "      <td>NaN</td>\n",
       "      <td>NaN</td>\n",
       "      <td>NaN</td>\n",
       "      <td>NaN</td>\n",
       "      <td>NaN</td>\n",
       "      <td>NaN</td>\n",
       "      <td>NaN</td>\n",
       "      <td>NaN</td>\n",
       "      <td>NaN</td>\n",
       "      <td>...</td>\n",
       "      <td>NaN</td>\n",
       "      <td>NaN</td>\n",
       "      <td>NaN</td>\n",
       "      <td>NaN</td>\n",
       "      <td>NaN</td>\n",
       "      <td>NaN</td>\n",
       "      <td>NaN</td>\n",
       "      <td>NaN</td>\n",
       "      <td>NaN</td>\n",
       "      <td>NaN</td>\n",
       "    </tr>\n",
       "    <tr>\n",
       "      <th>4</th>\n",
       "      <td>NaN</td>\n",
       "      <td>NaN</td>\n",
       "      <td>NaN</td>\n",
       "      <td>NaN</td>\n",
       "      <td>NaN</td>\n",
       "      <td>NaN</td>\n",
       "      <td>NaN</td>\n",
       "      <td>NaN</td>\n",
       "      <td>NaN</td>\n",
       "      <td>NaN</td>\n",
       "      <td>...</td>\n",
       "      <td>NaN</td>\n",
       "      <td>NaN</td>\n",
       "      <td>NaN</td>\n",
       "      <td>NaN</td>\n",
       "      <td>NaN</td>\n",
       "      <td>NaN</td>\n",
       "      <td>NaN</td>\n",
       "      <td>NaN</td>\n",
       "      <td>NaN</td>\n",
       "      <td>NaN</td>\n",
       "    </tr>\n",
       "    <tr>\n",
       "      <th>...</th>\n",
       "      <th>...</th>\n",
       "      <td>...</td>\n",
       "      <td>...</td>\n",
       "      <td>...</td>\n",
       "      <td>...</td>\n",
       "      <td>...</td>\n",
       "      <td>...</td>\n",
       "      <td>...</td>\n",
       "      <td>...</td>\n",
       "      <td>...</td>\n",
       "      <td>...</td>\n",
       "      <td>...</td>\n",
       "      <td>...</td>\n",
       "      <td>...</td>\n",
       "      <td>...</td>\n",
       "      <td>...</td>\n",
       "      <td>...</td>\n",
       "      <td>...</td>\n",
       "      <td>...</td>\n",
       "      <td>...</td>\n",
       "      <td>...</td>\n",
       "      <td>...</td>\n",
       "    </tr>\n",
       "    <tr>\n",
       "      <th rowspan=\"5\" valign=\"top\">135</th>\n",
       "      <th>15</th>\n",
       "      <td>NaN</td>\n",
       "      <td>NaN</td>\n",
       "      <td>NaN</td>\n",
       "      <td>NaN</td>\n",
       "      <td>NaN</td>\n",
       "      <td>NaN</td>\n",
       "      <td>NaN</td>\n",
       "      <td>NaN</td>\n",
       "      <td>NaN</td>\n",
       "      <td>NaN</td>\n",
       "      <td>...</td>\n",
       "      <td>NaN</td>\n",
       "      <td>NaN</td>\n",
       "      <td>NaN</td>\n",
       "      <td>NaN</td>\n",
       "      <td>NaN</td>\n",
       "      <td>NaN</td>\n",
       "      <td>NaN</td>\n",
       "      <td>NaN</td>\n",
       "      <td>NaN</td>\n",
       "      <td>NaN</td>\n",
       "    </tr>\n",
       "    <tr>\n",
       "      <th>16</th>\n",
       "      <td>NaN</td>\n",
       "      <td>NaN</td>\n",
       "      <td>NaN</td>\n",
       "      <td>NaN</td>\n",
       "      <td>NaN</td>\n",
       "      <td>NaN</td>\n",
       "      <td>NaN</td>\n",
       "      <td>NaN</td>\n",
       "      <td>NaN</td>\n",
       "      <td>NaN</td>\n",
       "      <td>...</td>\n",
       "      <td>NaN</td>\n",
       "      <td>NaN</td>\n",
       "      <td>NaN</td>\n",
       "      <td>NaN</td>\n",
       "      <td>NaN</td>\n",
       "      <td>NaN</td>\n",
       "      <td>NaN</td>\n",
       "      <td>NaN</td>\n",
       "      <td>NaN</td>\n",
       "      <td>NaN</td>\n",
       "    </tr>\n",
       "    <tr>\n",
       "      <th>17</th>\n",
       "      <td>NaN</td>\n",
       "      <td>NaN</td>\n",
       "      <td>NaN</td>\n",
       "      <td>NaN</td>\n",
       "      <td>NaN</td>\n",
       "      <td>NaN</td>\n",
       "      <td>NaN</td>\n",
       "      <td>NaN</td>\n",
       "      <td>NaN</td>\n",
       "      <td>NaN</td>\n",
       "      <td>...</td>\n",
       "      <td>NaN</td>\n",
       "      <td>NaN</td>\n",
       "      <td>NaN</td>\n",
       "      <td>NaN</td>\n",
       "      <td>NaN</td>\n",
       "      <td>NaN</td>\n",
       "      <td>NaN</td>\n",
       "      <td>NaN</td>\n",
       "      <td>NaN</td>\n",
       "      <td>NaN</td>\n",
       "    </tr>\n",
       "    <tr>\n",
       "      <th>18</th>\n",
       "      <td>NaN</td>\n",
       "      <td>NaN</td>\n",
       "      <td>NaN</td>\n",
       "      <td>NaN</td>\n",
       "      <td>NaN</td>\n",
       "      <td>NaN</td>\n",
       "      <td>NaN</td>\n",
       "      <td>NaN</td>\n",
       "      <td>NaN</td>\n",
       "      <td>NaN</td>\n",
       "      <td>...</td>\n",
       "      <td>NaN</td>\n",
       "      <td>NaN</td>\n",
       "      <td>NaN</td>\n",
       "      <td>NaN</td>\n",
       "      <td>NaN</td>\n",
       "      <td>NaN</td>\n",
       "      <td>NaN</td>\n",
       "      <td>NaN</td>\n",
       "      <td>NaN</td>\n",
       "      <td>NaN</td>\n",
       "    </tr>\n",
       "    <tr>\n",
       "      <th>19</th>\n",
       "      <td>NaN</td>\n",
       "      <td>NaN</td>\n",
       "      <td>NaN</td>\n",
       "      <td>NaN</td>\n",
       "      <td>NaN</td>\n",
       "      <td>NaN</td>\n",
       "      <td>NaN</td>\n",
       "      <td>NaN</td>\n",
       "      <td>NaN</td>\n",
       "      <td>NaN</td>\n",
       "      <td>...</td>\n",
       "      <td>NaN</td>\n",
       "      <td>NaN</td>\n",
       "      <td>NaN</td>\n",
       "      <td>NaN</td>\n",
       "      <td>NaN</td>\n",
       "      <td>NaN</td>\n",
       "      <td>NaN</td>\n",
       "      <td>NaN</td>\n",
       "      <td>NaN</td>\n",
       "      <td>NaN</td>\n",
       "    </tr>\n",
       "  </tbody>\n",
       "</table>\n",
       "<p>2720 rows × 136 columns</p>\n",
       "</div>"
      ],
      "text/plain": [
       "                            aa_counts                                      \\\n",
       "original_id                     276   1806  3458  3733  4629  6040  7674    \n",
       "sequential_id amino_acid_ID                                                 \n",
       "0             0                   NaN   NaN   NaN   NaN   NaN   NaN   NaN   \n",
       "              1                   NaN   NaN   NaN   NaN   NaN   NaN   NaN   \n",
       "              2                   NaN   NaN   NaN   NaN   NaN   NaN   NaN   \n",
       "              3                   NaN   NaN   NaN   NaN   NaN   NaN   NaN   \n",
       "              4                   NaN   NaN   NaN   NaN   NaN   NaN   NaN   \n",
       "...                               ...   ...   ...   ...   ...   ...   ...   \n",
       "135           15                  NaN   NaN   NaN   NaN   NaN   NaN   NaN   \n",
       "              16                  NaN   NaN   NaN   NaN   NaN   NaN   NaN   \n",
       "              17                  NaN   NaN   NaN   NaN   NaN   NaN   NaN   \n",
       "              18                  NaN   NaN   NaN   NaN   NaN   NaN   NaN   \n",
       "              19                  NaN   NaN   NaN   NaN   NaN   NaN   NaN   \n",
       "\n",
       "                                               ...                          \\\n",
       "original_id                 7780  8208  8304   ... 93192 93456 94372 94652   \n",
       "sequential_id amino_acid_ID                    ...                           \n",
       "0             0               NaN   NaN   NaN  ...   NaN   NaN   NaN   NaN   \n",
       "              1               NaN   NaN   NaN  ...   NaN   NaN   NaN   NaN   \n",
       "              2               NaN   NaN   NaN  ...   NaN   NaN   NaN   NaN   \n",
       "              3               NaN   NaN   NaN  ...   NaN   NaN   NaN   NaN   \n",
       "              4               NaN   NaN   NaN  ...   NaN   NaN   NaN   NaN   \n",
       "...                           ...   ...   ...  ...   ...   ...   ...   ...   \n",
       "135           15              NaN   NaN   NaN  ...   NaN   NaN   NaN   NaN   \n",
       "              16              NaN   NaN   NaN  ...   NaN   NaN   NaN   NaN   \n",
       "              17              NaN   NaN   NaN  ...   NaN   NaN   NaN   NaN   \n",
       "              18              NaN   NaN   NaN  ...   NaN   NaN   NaN   NaN   \n",
       "              19              NaN   NaN   NaN  ...   NaN   NaN   NaN   NaN   \n",
       "\n",
       "                                                                 \n",
       "original_id                 94719 96099 97218 97612 98170 98797  \n",
       "sequential_id amino_acid_ID                                      \n",
       "0             0               NaN   NaN   NaN   NaN   NaN   NaN  \n",
       "              1               NaN   NaN   NaN   NaN   NaN   NaN  \n",
       "              2               NaN   NaN   NaN   NaN   NaN   NaN  \n",
       "              3               NaN   NaN   NaN   NaN   NaN   NaN  \n",
       "              4               NaN   NaN   NaN   NaN   NaN   NaN  \n",
       "...                           ...   ...   ...   ...   ...   ...  \n",
       "135           15              NaN   NaN   NaN   NaN   NaN   NaN  \n",
       "              16              NaN   NaN   NaN   NaN   NaN   NaN  \n",
       "              17              NaN   NaN   NaN   NaN   NaN   NaN  \n",
       "              18              NaN   NaN   NaN   NaN   NaN   NaN  \n",
       "              19              NaN   NaN   NaN   NaN   NaN   NaN  \n",
       "\n",
       "[2720 rows x 136 columns]"
      ]
     },
     "execution_count": 149,
     "metadata": {},
     "output_type": "execute_result"
    }
   ],
   "source": [
    "output_df.drop().unstack('original_id')"
   ]
  },
  {
   "cell_type": "code",
   "execution_count": null,
   "metadata": {},
   "outputs": [],
   "source": [
    "  \n",
    "    #creating list comprehension of all AAs for site a residues\n",
    "    list_res_a = [r.type for r in site_a.residues]\n",
    "    \n",
    "    #creating list comprehension of all AAs for site b residues\n",
    "    list_res_b = [r.type for r in site_b.residues]\n",
    "    \n",
    "    #create two histogram count lists for site a and b from the list comprehensions\n",
    "    count_a = Counter(list_res_a)\n",
    "    count_b = Counter(list_res_b)\n",
    "    \n",
    "    #initialize two 20-element AA dictionaries: one for site A, one for site B\n",
    "    a_dict = {aa:0 for aa in my_aa}\n",
    "    b_dict = {aa:0 for aa in my_aa}\n",
    "    \n",
    "    #convert histogram count into the 20-D vector AA dictionary\n",
    "    #a site\n",
    "    for aa, count in count_a.items():\n",
    "        a_dict[aa] = count\n",
    "    a_vector = np.array(list(a_dict.values()))\n",
    "    #b site\n",
    "    for aa, count in count_b.items():\n",
    "        b_dict[aa] = count\n",
    "    b_vector = np.array(list(b_dict.values()))"
   ]
  },
  {
   "cell_type": "code",
   "execution_count": 183,
   "metadata": {},
   "outputs": [],
   "source": [
    "def cluster_by_partitioning(active_sites):\n",
    "    \"\"\"\n",
    "    Cluster a given set of ActiveSite instances using a partitioning method.\n",
    "    Input: a list of ActiveSite instances\n",
    "    Output: a clustering of ActiveSite instances\n",
    "            (this is really a list of clusters, each of which is list of\n",
    "            ActiveSite instances)\n",
    "    \"\"\"\n",
    "    #create df containing \"20-element vectors\" based on number of each amino acid in a given ActiveSite instance\n",
    "    aav_df = pd.DataFrame() #initialize df\n",
    "\n",
    "    for i, a in enumerate(active_site): #looping through all 136 active sites\n",
    "        list_res = [r.type for r in a.residues] #creating list comprehension of all AAs for an active site\n",
    "        count_aa = Counter(list_res) #create histogram count list for active site from the list comprehensions\n",
    "        aa_dict = {aa:0 for aa in my_aa} #initialize 20-element AA dictionary\n",
    "        for aa, count in count_aa.items(): #convert histogram count into the 20-D vector AA dictionary\n",
    "            aa_dict[aa] = count\n",
    "        aa_vec = np.array(list(aa_dict.values()))\n",
    "        midx = pd.MultiIndex.from_product([[i], np.arange(0,len(aa_vec))], #create multiindex for final df\n",
    "                                      names=['sequential_id', 'amino_acid_ID'])\n",
    "        temp_df = pd.DataFrame({'aa_counts' : aa_vec}, index=midx)\n",
    "        aav_df = aav_df.append(temp_df)\n",
    "    aav_df = aav_df.unstack('sequential_id').T #pivot to create final matrix, tranposed so fits orientation of PCA in scikitlearn\n",
    "    aav_df = aav_df.apply(lambda x: ((x - x.mean())/np.var(x,ddof=1)), axis = 1)\n",
    "    \n",
    "    #perform PCA to further reduce points from 20-D space to 2-D space\n",
    "    pca = PCA(n_components=2)\n",
    "    proj_aa = pca.fit_transform(aav_df.to_numpy())\n",
    "    \n",
    "    #number of clusters\n",
    "    k = 4 #picking 4 because histogram of similarity scores above shows 4 \"humps\"\n",
    "    \n",
    "    #picking random coordinates\n",
    "    #coord_x = np.random.rand(0, np.max(), size = k) #random x coordinate\n",
    "    \n",
    "\n",
    "    return proj_aa"
   ]
  },
  {
   "cell_type": "code",
   "execution_count": 184,
   "metadata": {},
   "outputs": [],
   "source": [
    "cluster = cluster_by_partitioning(active_site)"
   ]
  },
  {
   "cell_type": "code",
   "execution_count": 185,
   "metadata": {},
   "outputs": [
    {
     "data": {
      "text/plain": [
       "(136, 2)"
      ]
     },
     "execution_count": 185,
     "metadata": {},
     "output_type": "execute_result"
    }
   ],
   "source": [
    "cluster.shape"
   ]
  },
  {
   "cell_type": "code",
   "execution_count": 186,
   "metadata": {},
   "outputs": [
    {
     "data": {
      "text/plain": [
       "<matplotlib.axes._subplots.AxesSubplot at 0x1a204266a0>"
      ]
     },
     "execution_count": 186,
     "metadata": {},
     "output_type": "execute_result"
    },
    {
     "data": {
      "image/png": "[encoded data removed]",
      "text/plain": [
       "<Figure size 432x288 with 1 Axes>"
      ]
     },
     "metadata": {},
     "output_type": "display_data"
    }
   ],
   "source": [
    "sns.scatterplot(cluster[:,0], cluster[:,1])"
   ]
  },
  {
   "cell_type": "code",
   "execution_count": null,
   "metadata": {},
   "outputs": [],
   "source": [
    "# Number of clusters\n",
    "k = 3\n",
    "# X coordinates of random centroids\n",
    "C_x = np.random.randint(0, np.max(X)-20, size=k)\n",
    "# Y coordinates of random centroids\n",
    "C_y = np.random.randint(0, np.max(X)-20, size=k)\n",
    "C = np.array(list(zip(C_x, C_y)), dtype=np.float32)\n",
    "print(C)"
   ]
  },
  {
   "cell_type": "code",
   "execution_count": null,
   "metadata": {},
   "outputs": [],
   "source": []
  },
  {
   "cell_type": "code",
   "execution_count": null,
   "metadata": {},
   "outputs": [],
   "source": []
  },
  {
   "cell_type": "code",
   "execution_count": 110,
   "metadata": {},
   "outputs": [
    {
     "data": {
      "text/plain": [
       "array([ 0,  1,  0, 16,  0,  0,  0,  0,  0,  0,  0,  1,  0,  0,  0,  1,  0,\n",
       "        0,  0,  0])"
      ]
     },
     "execution_count": 110,
     "metadata": {},
     "output_type": "execute_result"
    }
   ],
   "source": [
    "np.array(list(save_this.values()))**2"
   ]
  },
  {
   "cell_type": "code",
   "execution_count": 29,
   "metadata": {},
   "outputs": [
    {
     "ename": "TypeError",
     "evalue": "cannot perform reduce with flexible type",
     "output_type": "error",
     "traceback": [
      "\u001b[0;31m---------------------------------------------------------------------------\u001b[0m",
      "\u001b[0;31mTypeError\u001b[0m                                 Traceback (most recent call last)",
      "\u001b[0;32m<ipython-input-29-0db198c745ee>\u001b[0m in \u001b[0;36m<module>\u001b[0;34m()\u001b[0m\n\u001b[1;32m      1\u001b[0m \u001b[0mtest_v\u001b[0m \u001b[0;34m=\u001b[0m \u001b[0mnp\u001b[0m\u001b[0;34m.\u001b[0m\u001b[0marray\u001b[0m\u001b[0;34m(\u001b[0m\u001b[0;34m[\u001b[0m\u001b[0;34m'ALA'\u001b[0m\u001b[0;34m,\u001b[0m \u001b[0;34m'ALA'\u001b[0m\u001b[0;34m,\u001b[0m \u001b[0;34m'GLY'\u001b[0m\u001b[0;34m,\u001b[0m \u001b[0;34m'PRO'\u001b[0m\u001b[0;34m]\u001b[0m\u001b[0;34m)\u001b[0m\u001b[0;34m\u001b[0m\u001b[0;34m\u001b[0m\u001b[0m\n\u001b[0;32m----> 2\u001b[0;31m \u001b[0mtest_hist\u001b[0m\u001b[0;34m,\u001b[0m \u001b[0mb\u001b[0m \u001b[0;34m=\u001b[0m \u001b[0mnp\u001b[0m\u001b[0;34m.\u001b[0m\u001b[0mhistogram\u001b[0m\u001b[0;34m(\u001b[0m\u001b[0mtest_v\u001b[0m\u001b[0;34m,\u001b[0m \u001b[0;34m[\u001b[0m\u001b[0;34m'ALA'\u001b[0m\u001b[0;34m,\u001b[0m \u001b[0;34m'GLY'\u001b[0m\u001b[0;34m,\u001b[0m \u001b[0;34m'PRO'\u001b[0m\u001b[0;34m]\u001b[0m\u001b[0;34m)\u001b[0m\u001b[0;34m\u001b[0m\u001b[0;34m\u001b[0m\u001b[0m\n\u001b[0m",
      "\u001b[0;32m~/anaconda3/lib/python3.6/site-packages/numpy/lib/function_base.py\u001b[0m in \u001b[0;36mhistogram\u001b[0;34m(a, bins, range, normed, weights, density)\u001b[0m\n\u001b[1;32m    660\u001b[0m             \u001b[0mfirst_edge\u001b[0m\u001b[0;34m,\u001b[0m \u001b[0mlast_edge\u001b[0m \u001b[0;34m=\u001b[0m \u001b[0;36m0.0\u001b[0m\u001b[0;34m,\u001b[0m \u001b[0;36m1.0\u001b[0m\u001b[0;34m\u001b[0m\u001b[0;34m\u001b[0m\u001b[0m\n\u001b[1;32m    661\u001b[0m         \u001b[0;32melse\u001b[0m\u001b[0;34m:\u001b[0m\u001b[0;34m\u001b[0m\u001b[0;34m\u001b[0m\u001b[0m\n\u001b[0;32m--> 662\u001b[0;31m             \u001b[0mfirst_edge\u001b[0m\u001b[0;34m,\u001b[0m \u001b[0mlast_edge\u001b[0m \u001b[0;34m=\u001b[0m \u001b[0ma\u001b[0m\u001b[0;34m.\u001b[0m\u001b[0mmin\u001b[0m\u001b[0;34m(\u001b[0m\u001b[0;34m)\u001b[0m \u001b[0;34m+\u001b[0m \u001b[0;36m0.0\u001b[0m\u001b[0;34m,\u001b[0m \u001b[0ma\u001b[0m\u001b[0;34m.\u001b[0m\u001b[0mmax\u001b[0m\u001b[0;34m(\u001b[0m\u001b[0;34m)\u001b[0m \u001b[0;34m+\u001b[0m \u001b[0;36m0.0\u001b[0m\u001b[0;34m\u001b[0m\u001b[0;34m\u001b[0m\u001b[0m\n\u001b[0m\u001b[1;32m    663\u001b[0m     \u001b[0;32melse\u001b[0m\u001b[0;34m:\u001b[0m\u001b[0;34m\u001b[0m\u001b[0;34m\u001b[0m\u001b[0m\n\u001b[1;32m    664\u001b[0m         \u001b[0mfirst_edge\u001b[0m\u001b[0;34m,\u001b[0m \u001b[0mlast_edge\u001b[0m \u001b[0;34m=\u001b[0m \u001b[0;34m[\u001b[0m\u001b[0mmi\u001b[0m \u001b[0;34m+\u001b[0m \u001b[0;36m0.0\u001b[0m \u001b[0;32mfor\u001b[0m \u001b[0mmi\u001b[0m \u001b[0;32min\u001b[0m \u001b[0mrange\u001b[0m\u001b[0;34m]\u001b[0m\u001b[0;34m\u001b[0m\u001b[0;34m\u001b[0m\u001b[0m\n",
      "\u001b[0;32m~/anaconda3/lib/python3.6/site-packages/numpy/core/_methods.py\u001b[0m in \u001b[0;36m_amin\u001b[0;34m(a, axis, out, keepdims)\u001b[0m\n\u001b[1;32m     27\u001b[0m \u001b[0;34m\u001b[0m\u001b[0m\n\u001b[1;32m     28\u001b[0m \u001b[0;32mdef\u001b[0m \u001b[0m_amin\u001b[0m\u001b[0;34m(\u001b[0m\u001b[0ma\u001b[0m\u001b[0;34m,\u001b[0m \u001b[0maxis\u001b[0m\u001b[0;34m=\u001b[0m\u001b[0;32mNone\u001b[0m\u001b[0;34m,\u001b[0m \u001b[0mout\u001b[0m\u001b[0;34m=\u001b[0m\u001b[0;32mNone\u001b[0m\u001b[0;34m,\u001b[0m \u001b[0mkeepdims\u001b[0m\u001b[0;34m=\u001b[0m\u001b[0;32mFalse\u001b[0m\u001b[0;34m)\u001b[0m\u001b[0;34m:\u001b[0m\u001b[0;34m\u001b[0m\u001b[0;34m\u001b[0m\u001b[0m\n\u001b[0;32m---> 29\u001b[0;31m     \u001b[0;32mreturn\u001b[0m \u001b[0mumr_minimum\u001b[0m\u001b[0;34m(\u001b[0m\u001b[0ma\u001b[0m\u001b[0;34m,\u001b[0m \u001b[0maxis\u001b[0m\u001b[0;34m,\u001b[0m \u001b[0;32mNone\u001b[0m\u001b[0;34m,\u001b[0m \u001b[0mout\u001b[0m\u001b[0;34m,\u001b[0m \u001b[0mkeepdims\u001b[0m\u001b[0;34m)\u001b[0m\u001b[0;34m\u001b[0m\u001b[0;34m\u001b[0m\u001b[0m\n\u001b[0m\u001b[1;32m     30\u001b[0m \u001b[0;34m\u001b[0m\u001b[0m\n\u001b[1;32m     31\u001b[0m \u001b[0;32mdef\u001b[0m \u001b[0m_sum\u001b[0m\u001b[0;34m(\u001b[0m\u001b[0ma\u001b[0m\u001b[0;34m,\u001b[0m \u001b[0maxis\u001b[0m\u001b[0;34m=\u001b[0m\u001b[0;32mNone\u001b[0m\u001b[0;34m,\u001b[0m \u001b[0mdtype\u001b[0m\u001b[0;34m=\u001b[0m\u001b[0;32mNone\u001b[0m\u001b[0;34m,\u001b[0m \u001b[0mout\u001b[0m\u001b[0;34m=\u001b[0m\u001b[0;32mNone\u001b[0m\u001b[0;34m,\u001b[0m \u001b[0mkeepdims\u001b[0m\u001b[0;34m=\u001b[0m\u001b[0;32mFalse\u001b[0m\u001b[0;34m)\u001b[0m\u001b[0;34m:\u001b[0m\u001b[0;34m\u001b[0m\u001b[0;34m\u001b[0m\u001b[0m\n",
      "\u001b[0;31mTypeError\u001b[0m: cannot perform reduce with flexible type"
     ]
    }
   ],
   "source": [
    "test_v = np.array(['ALA', 'ALA', 'GLY', 'PRO'])\n",
    "test_hist, b = np.histogram(test_v, ['ALA', 'GLY', 'PRO'])"
   ]
  },
  {
   "cell_type": "code",
   "execution_count": 34,
   "metadata": {},
   "outputs": [],
   "source": [
    "my_dict = {'san francisco' : 'david',4 : 'sierra'}"
   ]
  },
  {
   "cell_type": "code",
   "execution_count": 40,
   "metadata": {},
   "outputs": [
    {
     "data": {
      "text/plain": [
       "{'san francisco': 'david', 4: 'sierra'}"
      ]
     },
     "execution_count": 40,
     "metadata": {},
     "output_type": "execute_result"
    }
   ],
   "source": [
    "my_dict"
   ]
  },
  {
   "cell_type": "code",
   "execution_count": 41,
   "metadata": {},
   "outputs": [],
   "source": [
    "my_dict['kevin'] = 'ft collin'"
   ]
  },
  {
   "cell_type": "code",
   "execution_count": 42,
   "metadata": {},
   "outputs": [
    {
     "data": {
      "text/plain": [
       "{'san francisco': 'david', 4: 'sierra', 'kevin': 'ft collin'}"
      ]
     },
     "execution_count": 42,
     "metadata": {},
     "output_type": "execute_result"
    }
   ],
   "source": [
    "my_dict"
   ]
  },
  {
   "cell_type": "code",
   "execution_count": 38,
   "metadata": {},
   "outputs": [
    {
     "data": {
      "text/plain": [
       "['ALA',\n",
       " 'ARG',\n",
       " 'ASN',\n",
       " 'ASP',\n",
       " 'CYS',\n",
       " 'GLN',\n",
       " 'GLU',\n",
       " 'GLY',\n",
       " 'HIS',\n",
       " 'ILE',\n",
       " 'LEU',\n",
       " 'LYS',\n",
       " 'MET',\n",
       " 'PHE',\n",
       " 'PRO',\n",
       " 'SER',\n",
       " 'THR',\n",
       " 'TRP',\n",
       " 'TYR',\n",
       " 'VAL']"
      ]
     },
     "execution_count": 38,
     "metadata": {},
     "output_type": "execute_result"
    }
   ],
   "source": [
    "my_aa = ['ALA', 'ARG', 'ASN', 'ASP', 'CYS', 'GLN', 'GLU', 'GLY', 'HIS', 'ILE', 'LEU', 'LYS',\n",
    "         'MET', 'PHE', 'PRO', 'SER', 'THR', 'TRP', 'TYR', 'VAL']\n",
    "my_aa"
   ]
  },
  {
   "cell_type": "code",
   "execution_count": 43,
   "metadata": {},
   "outputs": [
    {
     "name": "stdout",
     "output_type": "stream",
     "text": [
      "{'ALA': 0, 'ARG': 0, 'ASN': 0, 'ASP': 0, 'CYS': 0, 'GLN': 0, 'GLU': 0, 'GLY': 0, 'HIS': 0, 'ILE': 0, 'LEU': 0, 'LYS': 0, 'MET': 0, 'PHE': 0, 'PRO': 0, 'SER': 0, 'THR': 0, 'TRP': 0, 'TYR': 0, 'VAL': 0}\n"
     ]
    }
   ],
   "source": [
    "sample_aa_dict = {}\n",
    "for aa in my_aa:\n",
    "    sample_aa_dict[aa] = 0\n",
    "print(sample_aa_dict)"
   ]
  },
  {
   "cell_type": "code",
   "execution_count": 44,
   "metadata": {},
   "outputs": [
    {
     "data": {
      "text/plain": [
       "{'ALA': 0,\n",
       " 'ARG': 0,\n",
       " 'ASN': 0,\n",
       " 'ASP': 0,\n",
       " 'CYS': 0,\n",
       " 'GLN': 0,\n",
       " 'GLU': 0,\n",
       " 'GLY': 0,\n",
       " 'HIS': 0,\n",
       " 'ILE': 0,\n",
       " 'LEU': 0,\n",
       " 'LYS': 0,\n",
       " 'MET': 0,\n",
       " 'PHE': 0,\n",
       " 'PRO': 0,\n",
       " 'SER': 0,\n",
       " 'THR': 0,\n",
       " 'TRP': 0,\n",
       " 'TYR': 0,\n",
       " 'VAL': 0}"
      ]
     },
     "execution_count": 44,
     "metadata": {},
     "output_type": "execute_result"
    }
   ],
   "source": [
    "different_aa_dict = {aa:0 for aa in my_aa}\n",
    "different_aa_dict"
   ]
  },
  {
   "cell_type": "code",
   "execution_count": 52,
   "metadata": {},
   "outputs": [
    {
     "data": {
      "text/plain": [
       "<matplotlib.axes._subplots.AxesSubplot at 0x1a12720c88>"
      ]
     },
     "execution_count": 52,
     "metadata": {},
     "output_type": "execute_result"
    },
    {
     "data": {
      "image/png": "[encoded data removed]",
      "text/plain": [
       "<Figure size 432x288 with 1 Axes>"
      ]
     },
     "metadata": {},
     "output_type": "display_data"
    }
   ],
   "source": [
    "from collections import Counter\n",
    "test_v = np.array(['ALA', 'ALA', 'GLY', 'PRO'])\n",
    "count_v = Counter(test_v)\n",
    "sns.barplot(list(count_v.keys()), list(count_v.values()))"
   ]
  },
  {
   "cell_type": "code",
   "execution_count": 62,
   "metadata": {},
   "outputs": [
    {
     "data": {
      "text/plain": [
       "<matplotlib.axes._subplots.AxesSubplot at 0x1a1e1b3400>"
      ]
     },
     "execution_count": 62,
     "metadata": {},
     "output_type": "execute_result"
    },
    {
     "data": {
      "image/png": "[encoded data removed]",
      "text/plain": [
       "<Figure size 432x288 with 1 Axes>"
      ]
     },
     "metadata": {},
     "output_type": "display_data"
    }
   ],
   "source": [
    "for aa, count in count_v.items():\n",
    "    sample_aa_dict[aa] = count\n",
    "sample_aa_dict\n",
    "sns.barplot(list(sample_aa_dict.keys()), list(sample_aa_dict.values()))"
   ]
  },
  {
   "cell_type": "code",
   "execution_count": null,
   "metadata": {},
   "outputs": [],
   "source": []
  }
 ],
 "metadata": {
  "kernelspec": {
   "display_name": "Python 3",
   "language": "python",
   "name": "python3"
  },
  "language_info": {
   "codemirror_mode": {
    "name": "ipython",
    "version": 3
   },
   "file_extension": ".py",
   "mimetype": "text/x-python",
   "name": "python",
   "nbconvert_exporter": "python",
   "pygments_lexer": "ipython3",
   "version": "3.6.8"
  }
 },
 "nbformat": 4,
 "nbformat_minor": 2
}
