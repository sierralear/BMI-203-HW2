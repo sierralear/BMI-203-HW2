{
 "cells": [
  {
   "cell_type": "code",
   "execution_count": 1,
   "metadata": {},
   "outputs": [
    {
     "name": "stdout",
     "output_type": "stream",
     "text": [
      "Read in 136 active sites\n"
     ]
    }
   ],
   "source": [
    "from hw2skeleton import io, cluster, utils\n",
    "import numpy as np\n",
    "import seaborn as sns\n",
    "import matplotlib.pyplot as plt\n",
    "from collections import Counter\n",
    "from itertools import product\n",
    "import pandas as pd\n",
    "from sklearn.decomposition import PCA"
   ]
  },
  {
   "cell_type": "code",
   "execution_count": 2,
   "metadata": {},
   "outputs": [
    {
     "name": "stdout",
     "output_type": "stream",
     "text": [
      "Read in 136 active sites\n"
     ]
    }
   ],
   "source": [
    "#path = '/Users/Sisi/Documents/GitHub/BMI-203-HW2/data' #Note: may have to change the path when uploading into GitHub?\n",
    "path = '/Users/sierra.lear/Documents/GitHub/BMI-203-HW2/data'\n",
    "\n",
    "active_site = io.read_active_sites(path);"
   ]
  },
  {
   "cell_type": "markdown",
   "metadata": {},
   "source": [
    "## Objective #1:\n",
    "*Implement a similarity metric to compare active sites.*"
   ]
  },
  {
   "cell_type": "markdown",
   "metadata": {},
   "source": [
    "For my similarity metric, I want to calculate the percentage of a given amino acid in an active site (basically, the compositionality of an active site). I can then calculate the Euclidan distance based on the 20-D space constructed by the ratio of all 20 different amino acids.\n",
    "\n",
    "One one hand, this obviously simplifies or \"ignores\" important functional information, namely the 3D structure/configuration of amino acids or residues in relation to each other as well as the number of residues or how \"large\" an active site is.\n",
    "\n",
    "However, given my inexperience with enzyme function, I am hypothesizing that the overall \"chemical identity\" of a residue still gives an important clue to its function--in particular, two active sites that contain more of the same amino acids are more likely to be functionally similar or have similar roles than two residues that contain no overlapping amino acids. Furthermore, given that some amino acids have specific charges or hydrophobicity, I know that amino acids often drive structure, so I also hypothesize that some of this \"lost\" structural information will actually be redundant or contained within the ratio or identity of amino acids anyway."
   ]
  },
  {
   "cell_type": "code",
   "execution_count": 3,
   "metadata": {},
   "outputs": [],
   "source": [
    "combos = list(product(range(0,len(active_site)), range(0,len(active_site))))"
   ]
  },
  {
   "cell_type": "code",
   "execution_count": 4,
   "metadata": {},
   "outputs": [],
   "source": [
    "my_aa = ['ALA', 'ARG', 'ASN', 'ASP', 'CYS', 'GLN', 'GLU', 'GLY', 'HIS', 'ILE', 'LEU', 'LYS',\n",
    "         'MET', 'PHE', 'PRO', 'SER', 'THR', 'TRP', 'TYR', 'VAL']\n",
    "\n",
    "def compute_similarity(site_a, site_b):\n",
    "    \"\"\"\n",
    "    Compute the similarity between two given ActiveSite instances.\n",
    "\n",
    "    Input: two ActiveSite instances\n",
    "    Output: the similarity between them (a floating point number)\n",
    "    \"\"\"\n",
    "\n",
    "    similarity = 0.0\n",
    "    \n",
    "    #creating list comprehension of all AAs for site a residues\n",
    "    list_res_a = [r.type for r in site_a.residues]\n",
    "    \n",
    "    #creating list comprehension of all AAs for site b residues\n",
    "    list_res_b = [r.type for r in site_b.residues]\n",
    "    \n",
    "    #create two histogram count lists for site a and b from the list comprehensions\n",
    "    count_a = Counter(list_res_a)\n",
    "    count_b = Counter(list_res_b)\n",
    "    \n",
    "    #initialize two 20-element AA dictionaries: one for site A, one for site B\n",
    "    a_dict = {aa:0 for aa in my_aa}\n",
    "    b_dict = {aa:0 for aa in my_aa}\n",
    "    \n",
    "    #convert normalized histogram count into the 20-D vector AA dictionary\n",
    "    #a site\n",
    "    for aa, count in count_a.items():\n",
    "        a_dict[aa] = count\n",
    "    a_vector = np.array(list(a_dict.values()))\n",
    "    a_vector = a_vector/np.sum(a_vector) #to return percentage of amino acid identity\n",
    "    #b site\n",
    "    for aa, count in count_b.items():\n",
    "        b_dict[aa] = count\n",
    "    b_vector = np.array(list(b_dict.values()))\n",
    "    b_vector = b_vector/np.sum(b_vector)\n",
    "        \n",
    "    #calculate Euclidian distance between the two sites' 20-D vectors\n",
    "    similarity = np.sqrt(np.sum((a_vector - b_vector)**2))\n",
    "    \n",
    "    return similarity"
   ]
  },
  {
   "cell_type": "code",
   "execution_count": 5,
   "metadata": {},
   "outputs": [
    {
     "data": {
      "text/plain": [
       "0.7810104508027012"
      ]
     },
     "execution_count": 5,
     "metadata": {},
     "output_type": "execute_result"
    }
   ],
   "source": [
    "a = compute_similarity(active_site[53], active_site[4])\n",
    "a"
   ]
  },
  {
   "cell_type": "code",
   "execution_count": 6,
   "metadata": {},
   "outputs": [
    {
     "data": {
      "text/plain": [
       "0.2939723678960656"
      ]
     },
     "execution_count": 6,
     "metadata": {},
     "output_type": "execute_result"
    }
   ],
   "source": [
    "a = compute_similarity(active_site[3], active_site[4])\n",
    "a"
   ]
  },
  {
   "cell_type": "code",
   "execution_count": 7,
   "metadata": {},
   "outputs": [
    {
     "data": {
      "text/html": [
       "<div>\n",
       "<style scoped>\n",
       "    .dataframe tbody tr th:only-of-type {\n",
       "        vertical-align: middle;\n",
       "    }\n",
       "\n",
       "    .dataframe tbody tr th {\n",
       "        vertical-align: top;\n",
       "    }\n",
       "\n",
       "    .dataframe thead th {\n",
       "        text-align: right;\n",
       "    }\n",
       "</style>\n",
       "<table border=\"1\" class=\"dataframe\">\n",
       "  <thead>\n",
       "    <tr style=\"text-align: right;\">\n",
       "      <th></th>\n",
       "      <th>Site_A</th>\n",
       "      <th>Site_B</th>\n",
       "      <th>Similarity</th>\n",
       "    </tr>\n",
       "  </thead>\n",
       "  <tbody>\n",
       "    <tr>\n",
       "      <td>0</td>\n",
       "      <td>0.0</td>\n",
       "      <td>0.0</td>\n",
       "      <td>0.000000</td>\n",
       "    </tr>\n",
       "    <tr>\n",
       "      <td>1</td>\n",
       "      <td>0.0</td>\n",
       "      <td>1.0</td>\n",
       "      <td>0.435135</td>\n",
       "    </tr>\n",
       "    <tr>\n",
       "      <td>2</td>\n",
       "      <td>0.0</td>\n",
       "      <td>2.0</td>\n",
       "      <td>0.404061</td>\n",
       "    </tr>\n",
       "    <tr>\n",
       "      <td>3</td>\n",
       "      <td>0.0</td>\n",
       "      <td>3.0</td>\n",
       "      <td>0.409019</td>\n",
       "    </tr>\n",
       "    <tr>\n",
       "      <td>4</td>\n",
       "      <td>0.0</td>\n",
       "      <td>4.0</td>\n",
       "      <td>0.365769</td>\n",
       "    </tr>\n",
       "  </tbody>\n",
       "</table>\n",
       "</div>"
      ],
      "text/plain": [
       "   Site_A  Site_B  Similarity\n",
       "0     0.0     0.0    0.000000\n",
       "1     0.0     1.0    0.435135\n",
       "2     0.0     2.0    0.404061\n",
       "3     0.0     3.0    0.409019\n",
       "4     0.0     4.0    0.365769"
      ]
     },
     "execution_count": 7,
     "metadata": {},
     "output_type": "execute_result"
    }
   ],
   "source": [
    "df = pd.DataFrame(columns = ['Site_A', 'Site_B', 'Similarity'])\n",
    "for a, b in combos:\n",
    "    similarity = compute_similarity(active_site[a], active_site[b])\n",
    "    df = df.append({'Site_A': a, 'Site_B': b, 'Similarity': similarity}, ignore_index=True)\n",
    "df.head()"
   ]
  },
  {
   "cell_type": "code",
   "execution_count": 8,
   "metadata": {},
   "outputs": [
    {
     "data": {
      "text/html": [
       "<div>\n",
       "<style scoped>\n",
       "    .dataframe tbody tr th:only-of-type {\n",
       "        vertical-align: middle;\n",
       "    }\n",
       "\n",
       "    .dataframe tbody tr th {\n",
       "        vertical-align: top;\n",
       "    }\n",
       "\n",
       "    .dataframe thead th {\n",
       "        text-align: right;\n",
       "    }\n",
       "</style>\n",
       "<table border=\"1\" class=\"dataframe\">\n",
       "  <thead>\n",
       "    <tr style=\"text-align: right;\">\n",
       "      <th></th>\n",
       "      <th>Site_A</th>\n",
       "      <th>Site_B</th>\n",
       "      <th>Similarity</th>\n",
       "    </tr>\n",
       "  </thead>\n",
       "  <tbody>\n",
       "    <tr>\n",
       "      <td>18490</td>\n",
       "      <td>135.0</td>\n",
       "      <td>130.0</td>\n",
       "      <td>0.439697</td>\n",
       "    </tr>\n",
       "    <tr>\n",
       "      <td>18491</td>\n",
       "      <td>135.0</td>\n",
       "      <td>131.0</td>\n",
       "      <td>0.527046</td>\n",
       "    </tr>\n",
       "    <tr>\n",
       "      <td>18492</td>\n",
       "      <td>135.0</td>\n",
       "      <td>132.0</td>\n",
       "      <td>0.543984</td>\n",
       "    </tr>\n",
       "    <tr>\n",
       "      <td>18493</td>\n",
       "      <td>135.0</td>\n",
       "      <td>133.0</td>\n",
       "      <td>0.527046</td>\n",
       "    </tr>\n",
       "    <tr>\n",
       "      <td>18494</td>\n",
       "      <td>135.0</td>\n",
       "      <td>134.0</td>\n",
       "      <td>0.955685</td>\n",
       "    </tr>\n",
       "  </tbody>\n",
       "</table>\n",
       "</div>"
      ],
      "text/plain": [
       "       Site_A  Site_B  Similarity\n",
       "18490   135.0   130.0    0.439697\n",
       "18491   135.0   131.0    0.527046\n",
       "18492   135.0   132.0    0.543984\n",
       "18493   135.0   133.0    0.527046\n",
       "18494   135.0   134.0    0.955685"
      ]
     },
     "execution_count": 8,
     "metadata": {},
     "output_type": "execute_result"
    }
   ],
   "source": [
    "df = df.loc[~(df[\"Site_A\"] == df[\"Site_B\"]), :] #remove all rows where Site_A == Site_B\n",
    "df.tail()"
   ]
  },
  {
   "cell_type": "markdown",
   "metadata": {},
   "source": [
    "Below I've plotted a histogram containing the distances of all my active sites compared to every other active site. This histogram gives me the idea of what the overall distribution of my active sites--based on this specific similarity metric--might be."
   ]
  },
  {
   "cell_type": "code",
   "execution_count": 9,
   "metadata": {},
   "outputs": [
    {
     "data": {
      "text/plain": [
       "<matplotlib.axes._subplots.AxesSubplot at 0x1a21b339d0>"
      ]
     },
     "execution_count": 9,
     "metadata": {},
     "output_type": "execute_result"
    },
    {
     "data": {
      "image/png": "[encoded data removed]",
      "text/plain": [
       "<Figure size 432x288 with 1 Axes>"
      ]
     },
     "metadata": {
      "needs_background": "light"
     },
     "output_type": "display_data"
    }
   ],
   "source": [
    "sns.distplot(df[\"Similarity\"], bins=50, norm_hist=False, kde=False)"
   ]
  },
  {
   "cell_type": "markdown",
   "metadata": {},
   "source": [
    "## Objective #2: \n",
    "*Implement a partitioning algorithm to cluster the set of active sites.* \n"
   ]
  },
  {
   "cell_type": "markdown",
   "metadata": {},
   "source": [
    "My similarity metric in Objective #1 was designed to work only with the active site pdb files and not with randomized centroids, so I've made a slightly modified similarity metric function that is able to work with a centroid (seen below) in order to properly complete this objective."
   ]
  },
  {
   "cell_type": "code",
   "execution_count": 11,
   "metadata": {},
   "outputs": [],
   "source": [
    "my_aa = ['ALA', 'ARG', 'ASN', 'ASP', 'CYS', 'GLN', 'GLU', 'GLY', 'HIS', 'ILE', 'LEU', 'LYS',\n",
    "         'MET', 'PHE', 'PRO', 'SER', 'THR', 'TRP', 'TYR', 'VAL']\n",
    "\n",
    "def compute_similarity_partitioning(site_a, centroid):\n",
    "    \"\"\"\n",
    "    Compute the similarity between two given ActiveSite instances.\n",
    "\n",
    "    Input: one ActiveSite instance, one \"centroid\" consisting of a 20-element vector with numnbers between 0 and 1\n",
    "    Output: the similarity between them (a floating point number)\n",
    "    \"\"\"\n",
    "\n",
    "    similarity = 0.0\n",
    "    \n",
    "    #creating list comprehension of all AAs for site a residues\n",
    "    list_res_a = [r.type for r in site_a.residues]\n",
    "    \n",
    "    #create two histogram count lists for site a and b from the list comprehensions\n",
    "    count_a = Counter(list_res_a)\n",
    "    \n",
    "    #initialize two 20-element AA dictionaries: one for site A, one for site B\n",
    "    a_dict = {aa:0 for aa in my_aa}\n",
    "    \n",
    "    #convert normalized histogram count into the 20-D vector AA dictionary\n",
    "    #a site\n",
    "    for aa, count in count_a.items():\n",
    "        a_dict[aa] = count\n",
    "    a_vector = np.array(list(a_dict.values()))\n",
    "    a_vector = a_vector/np.sum(a_vector) #to return percentage of amino acid identity\n",
    "        \n",
    "    #calculate Euclidian distance between the two sites' 20-D vectors\n",
    "    similarity = np.sqrt(np.sum((a_vector - centroid)**2))\n",
    "    \n",
    "    return similarity, a_vector"
   ]
  },
  {
   "cell_type": "code",
   "execution_count": 12,
   "metadata": {},
   "outputs": [],
   "source": [
    "def cluster_by_partitioning(active_sites):\n",
    "    \"\"\"\n",
    "    Cluster a given set of ActiveSite instances using a partitioning method.\n",
    "    Input: a list of ActiveSite instances\n",
    "    Output: a clustering of ActiveSite instances\n",
    "            (this is really a list of clusters, each of which is list of\n",
    "            ActiveSite instances)\n",
    "    \"\"\"\n",
    "\n",
    "    #number of clusters\n",
    "    k = 3 #based off histogram--while an elbow plot would be a better way to pick clusters, I chose\n",
    "              #this for the sake of brevity\n",
    "    \n",
    "    #creating random centroids\n",
    "        # my centroid will be a 20-element vector with randomized numbers between 0 and 1\n",
    "    np.random.seed(3) #seed\n",
    "    centroid_list = [None] * k #initializing my list of k centroids\n",
    "    for i in range(len(centroid_list)): \n",
    "        centroid_list[i] = np.random.rand(20) #creatign random numbers to fill 20 elements of each centroid vector\n",
    "        centroid_list[i] /= centroid_list[i].sum() #to ensure all elements sum to 1 to mimic amino acid compositionality\n",
    "\n",
    "    \n",
    "    #k-means algorithm    \n",
    "    partition_combos = list(product(range(0,len(active_site)), range(0,len(centroid_list)))) #create list of tuples\n",
    "                                                                                          #with all combinations of\n",
    "                                                                                #active site instances and centroids\n",
    "    for iter in range(100):    #running KNN 100 times before stopping\n",
    "        df = pd.DataFrame(columns = ['ActiveSite', 'Centroids', 'Similarity']) #initialize dataframe\n",
    "        a_list = [] #initialize list of the compositionality of all amino acids\n",
    "        for a, b in partition_combos:\n",
    "            similarity, a_vector = compute_similarity_partitioning(active_site[a], centroid_list[b]) #calculate distances between all centroids and all active sites\n",
    "            df = df.append({'ActiveSite': a, 'Centroids': b, 'Similarity': similarity}, ignore_index=True) #create df listing distance to each centroid for each amino acid\n",
    "            a_list.append(a_vector) #create list of compositionality of all amino acids\n",
    "    \n",
    "        #labeling each ActiveSite to a centroid based on having the lowest similarity score\n",
    "        df_new = df.sort_values(\"Similarity\").groupby(\"ActiveSite\").first() #assigns active site to closest centroid\n",
    "    \n",
    "        #recalculate centroid based on active site assigned to it\n",
    "        clusterings = [] #initialize clusterings list\n",
    "        for centroid in df_new[\"Centroids\"].unique(): #looping through each centroid \n",
    "            as_in_centroids = df_new.loc[df_new[\"Centroids\"] == centroid].index #find all active site labelled for that cluster\n",
    "            clusterings.append(as_in_centroids.tolist()) #add that to my clustering list\n",
    "            centroid_activesite_comps = [] #intialize list of compositionality for a given centroid\n",
    "            for activesite in as_in_centroids: #lopping through each active site for a given centroid\n",
    "                centroid_activesite_comps.append(a_list[int(activesite)]) #adding given active site's 20-element vector to list\n",
    "            centroid_list[i] = np.mean(centroid_activesite_comps, axis = 0) #recalculating centroid as the row element-wise mean of the new amino acids\n",
    "                \n",
    "    return clusterings"
   ]
  },
  {
   "cell_type": "code",
   "execution_count": 13,
   "metadata": {},
   "outputs": [
    {
     "data": {
      "text/plain": [
       "[[0.0,\n",
       "  2.0,\n",
       "  5.0,\n",
       "  6.0,\n",
       "  8.0,\n",
       "  9.0,\n",
       "  10.0,\n",
       "  12.0,\n",
       "  13.0,\n",
       "  14.0,\n",
       "  15.0,\n",
       "  16.0,\n",
       "  17.0,\n",
       "  24.0,\n",
       "  26.0,\n",
       "  27.0,\n",
       "  28.0,\n",
       "  31.0,\n",
       "  32.0,\n",
       "  33.0,\n",
       "  36.0,\n",
       "  37.0,\n",
       "  38.0,\n",
       "  41.0,\n",
       "  42.0,\n",
       "  43.0,\n",
       "  44.0,\n",
       "  45.0,\n",
       "  46.0,\n",
       "  47.0,\n",
       "  50.0,\n",
       "  51.0,\n",
       "  52.0,\n",
       "  54.0,\n",
       "  55.0,\n",
       "  58.0,\n",
       "  59.0,\n",
       "  60.0,\n",
       "  62.0,\n",
       "  63.0,\n",
       "  65.0,\n",
       "  66.0,\n",
       "  68.0,\n",
       "  70.0,\n",
       "  72.0,\n",
       "  74.0,\n",
       "  75.0,\n",
       "  76.0,\n",
       "  77.0,\n",
       "  78.0,\n",
       "  80.0,\n",
       "  81.0,\n",
       "  82.0,\n",
       "  84.0,\n",
       "  85.0,\n",
       "  86.0,\n",
       "  87.0,\n",
       "  89.0,\n",
       "  90.0,\n",
       "  91.0,\n",
       "  92.0,\n",
       "  93.0,\n",
       "  95.0,\n",
       "  96.0,\n",
       "  97.0,\n",
       "  104.0,\n",
       "  106.0,\n",
       "  107.0,\n",
       "  109.0,\n",
       "  110.0,\n",
       "  111.0,\n",
       "  113.0,\n",
       "  114.0,\n",
       "  115.0,\n",
       "  116.0,\n",
       "  118.0,\n",
       "  119.0,\n",
       "  121.0,\n",
       "  123.0,\n",
       "  128.0,\n",
       "  129.0,\n",
       "  130.0,\n",
       "  132.0,\n",
       "  134.0,\n",
       "  135.0],\n",
       " [1.0,\n",
       "  3.0,\n",
       "  4.0,\n",
       "  7.0,\n",
       "  11.0,\n",
       "  20.0,\n",
       "  23.0,\n",
       "  29.0,\n",
       "  30.0,\n",
       "  34.0,\n",
       "  40.0,\n",
       "  48.0,\n",
       "  56.0,\n",
       "  57.0,\n",
       "  61.0,\n",
       "  69.0,\n",
       "  79.0,\n",
       "  88.0,\n",
       "  94.0,\n",
       "  98.0,\n",
       "  99.0,\n",
       "  100.0,\n",
       "  105.0,\n",
       "  108.0,\n",
       "  112.0,\n",
       "  131.0,\n",
       "  133.0],\n",
       " [18.0,\n",
       "  19.0,\n",
       "  21.0,\n",
       "  22.0,\n",
       "  25.0,\n",
       "  35.0,\n",
       "  39.0,\n",
       "  49.0,\n",
       "  53.0,\n",
       "  64.0,\n",
       "  67.0,\n",
       "  71.0,\n",
       "  73.0,\n",
       "  83.0,\n",
       "  101.0,\n",
       "  102.0,\n",
       "  103.0,\n",
       "  117.0,\n",
       "  120.0,\n",
       "  122.0,\n",
       "  124.0,\n",
       "  125.0,\n",
       "  126.0,\n",
       "  127.0]]"
      ]
     },
     "execution_count": 13,
     "metadata": {},
     "output_type": "execute_result"
    }
   ],
   "source": [
    "partition_cluster = cluster_by_partitioning(active_site)\n",
    "partition_cluster"
   ]
  },
  {
   "cell_type": "markdown",
   "metadata": {},
   "source": [
    "To visualize, I will be performing PCA to reduce my 20-D space to a 2D space that I can actually plot."
   ]
  },
  {
   "cell_type": "code",
   "execution_count": 14,
   "metadata": {},
   "outputs": [],
   "source": [
    "#VISUALIZATION\n",
    "\n",
    "        #create df containing \"20-element vectors\" based on number of each amino acid in a given ActiveSite instance\n",
    "aav_df = pd.DataFrame() #initialize df\n",
    "\n",
    "for i, a in enumerate(active_site): #looping through all 136 active sites\n",
    "    list_res = [r.type for r in a.residues] #creating list comprehension of all AAs for an active site\n",
    "    count_aa = Counter(list_res) #create histogram count list for active site from the list comprehensions\n",
    "    aa_dict = {aa:0 for aa in my_aa} #initialize 20-element AA dictionary\n",
    "    for aa, count in count_aa.items(): #convert histogram count into the 20-D vector AA dictionary\n",
    "        aa_dict[aa] = count\n",
    "    aa_vec = np.array(list(aa_dict.values()))\n",
    "    midx = pd.MultiIndex.from_product([[i], np.arange(0,len(aa_vec))], #create multiindex for final df\n",
    "                                      names=['sequential_id', 'amino_acid_ID'])\n",
    "    temp_df = pd.DataFrame({'aa_counts' : aa_vec}, index=midx)\n",
    "    aav_df = aav_df.append(temp_df)\n",
    "aav_df = aav_df.unstack('sequential_id').T #pivot to create final matrix, tranposed so fits orientation of PCA in scikitlearn\n",
    "aav_df = aav_df.apply(lambda x: ((x - x.mean())/np.var(x,ddof=1)), axis = 1)\n",
    "    \n",
    "#perform PCA to further reduce points from 20-D space to 2-D space\n",
    "pca = PCA(n_components=2)\n",
    "proj_aa = pca.fit_transform(aav_df.to_numpy())"
   ]
  },
  {
   "cell_type": "code",
   "execution_count": 15,
   "metadata": {},
   "outputs": [],
   "source": [
    "partition_visual = pd.DataFrame({\"PC1\": proj_aa[:,0], \"PC2\": proj_aa[:,1], \"Labels\": np.NaN})\n",
    "for i in partition_cluster[0]:\n",
    "    partition_visual.loc[i, \"Labels\"] = 0\n",
    "for i in partition_cluster[1]:\n",
    "    partition_visual.loc[i, \"Labels\"] = 1\n",
    "for i in partition_cluster[2]:\n",
    "    partition_visual.loc[i, \"Labels\"] = 2"
   ]
  },
  {
   "cell_type": "code",
   "execution_count": 16,
   "metadata": {},
   "outputs": [
    {
     "data": {
      "image/png": "[encoded data removed]",
      "text/plain": [
       "<Figure size 432x288 with 1 Axes>"
      ]
     },
     "metadata": {
      "needs_background": "light"
     },
     "output_type": "display_data"
    }
   ],
   "source": [
    "sns.scatterplot(x=\"PC1\", y=\"PC2\", hue=\"Labels\", data=partition_visual,legend=False);"
   ]
  },
  {
   "cell_type": "markdown",
   "metadata": {},
   "source": [
    "The clusters *generally* appear to be together, although there are some weird outliers--such as the dark purple dot at (-2, 12). It's hard to tell if this is a correct clustering or not, because I'm reducing a 20-D space down to a 2-D space. It's possible that in the greater dimensional plane, that outlier point is actually very close to the rest of the other dark purple points."
   ]
  },
  {
   "cell_type": "markdown",
   "metadata": {},
   "source": [
    "## Objective #3: \n",
    "*Implement an agglomerative algorithm to cluster the set of active sites.* "
   ]
  },
  {
   "cell_type": "markdown",
   "metadata": {},
   "source": [
    "I chose to use single-linkage clustering that relies on minimum distance. Such a clustering method results in long, thin clusters. My rationale here was that I imagined that when sorting active sites based on compositionality, I didn't want to \"punish\" active sites that had 1 fewer of a certain type of amino acid, because I thought that was likely a meaningless difference. \n",
    "\n",
    "More abstractly, I imagine active sites are likely to be classified by categories like \"acidic amino acids,\" \"basic amino acids,\" etc. As a result, in general resemblance in compositionality--which I thought was best captured by minimum distance--should better capture the groups than a more \"nit-picky\" linkage that heavily punishes what I would consider minor deviations in compositionality (even if the overall amount of basic or charged amino acids stayed the same)."
   ]
  },
  {
   "cell_type": "code",
   "execution_count": 17,
   "metadata": {},
   "outputs": [],
   "source": [
    "as_num = list(range(0,len(active_site))) #make list of all indices for active sites\n",
    "group = np.array(as_num) #creating cluster labels\n",
    "dist_matrix = np.zeros((len(as_num), len(as_num))) # create upper triangular distance matrix recording similarities for each pair of active sites\n",
    "for row in as_num: #going through rows of distance matrix\n",
    "    for col in range(row,len(as_num)): #going through columns of distance matrix\n",
    "        similarity = compute_similarity(active_site[row], active_site[col]) #calculate similarity\n",
    "        dist_matrix[row, col] = similarity #input the similarity into the proper location in matrix\n",
    "        \n",
    "for row in as_num: #NaN-ing redundant values in matrix to make upper triangular matrix\n",
    "    for col in range(0,row+1):\n",
    "        dist_matrix[row, col] = np.NaN"
   ]
  },
  {
   "cell_type": "code",
   "execution_count": 18,
   "metadata": {},
   "outputs": [],
   "source": [
    "def min_similarity(distance_matrix, group_labels):\n",
    "    '''\n",
    "    This function determines the the two active sites that are closest to each other and then changes it so those\n",
    "    points and their associated cluster are converted into one single cluster. It also flags that minimum distance\n",
    "    so it is never used again in future iterations.\n",
    "    \n",
    "    Input: distance_matrix -- a matrix returning all the distances from one active site to another active site\n",
    "            group_labels -- the current clusters/labels all active sites currently belong to\n",
    "    \n",
    "    \n",
    "    Output: row_i, col_i: the two active sites that are closest to each other\n",
    "            distance: the minimum distance between those two active sites\n",
    "    \n",
    "    '''\n",
    "    \n",
    "    flat_i = np.nanargmin(distance_matrix) #finds the \"flattened index\" of the minimum distance\n",
    "    row_i = int(flat_i/len(as_num)) #calculates what the row_index or one of the active sites from \"flattened index\"\n",
    "    col_i = flat_i - (row_i * len(as_num)) #calculates the col_index or the other active site from \"flattened index\"\n",
    "    distance = distance_matrix[row_i, col_i] #is the distance between those two active sites\n",
    "        \n",
    "    min_label = np.min([group_labels[row_i], group_labels[col_i]]) #calculates what the lower of the labels of those two active sites are\n",
    "    max_label = np.max([group_labels[row_i], group_labels[col_i]]) #calculates what the higher of the labels of those two active sites are\n",
    "    group_labels[np.where(group_labels == max_label)] = min_label #changes all labels of the maxmimum label to the minimum label\n",
    "                                                                    #basically: combines two clusters into one cluster label\n",
    "    \n",
    "    distance_matrix[row_i, col_i] = group_labels[row_i] + 1000 #flagging that distance as \"used up\"\n",
    "    \n",
    "    return row_i, col_i, distance"
   ]
  },
  {
   "cell_type": "code",
   "execution_count": 19,
   "metadata": {},
   "outputs": [],
   "source": [
    "ele_1, ele_2, dist = min_similarity(dist_matrix, group)"
   ]
  },
  {
   "cell_type": "code",
   "execution_count": 20,
   "metadata": {},
   "outputs": [
    {
     "name": "stdout",
     "output_type": "stream",
     "text": [
      "1 20\n",
      "[  0   1   2   3   4   5   6   7   8   9  10  11  12  13  14  15  16  17\n",
      "  18  19   1  21  22  23  24  25  26  27  28  29  30  31  32  33  34  35\n",
      "  36  37  38  39  40  41  42  43  44  45  46  47  48  49  50  51  52  53\n",
      "  54  55  56  57  58  59  60  61  62  63  64  65  66  67  68  69  70  71\n",
      "  72  73  74  75  76  77  78  79  80  81  82  83  84  85  86  87  88  89\n",
      "  90  91  92  93  94  95  96  97  98  99 100 101 102 103 104 105 106 107\n",
      " 108 109 110 111 112 113 114 115 116 117 118 119 120 121 122 123 124 125\n",
      " 126 127 128 129 130 131 132 133 134 135]\n"
     ]
    }
   ],
   "source": [
    "print(ele_1, ele_2)\n",
    "print(group)"
   ]
  },
  {
   "cell_type": "code",
   "execution_count": 21,
   "metadata": {},
   "outputs": [
    {
     "data": {
      "text/plain": [
       "(array([  0,   1,   2,   3,   4,   5,   6,   7,   8,   9,  10,  11,  12,\n",
       "         13,  14,  15,  16,  17,  18,  19,  21,  22,  23,  24,  25,  26,\n",
       "         27,  28,  29,  30,  31,  32,  33,  34,  35,  36,  37,  38,  39,\n",
       "         40,  41,  42,  43,  44,  45,  46,  47,  48,  49,  50,  51,  52,\n",
       "         53,  54,  55,  56,  57,  58,  59,  60,  61,  62,  63,  64,  65,\n",
       "         66,  67,  68,  69,  70,  71,  72,  73,  74,  75,  76,  77,  78,\n",
       "         79,  80,  81,  82,  83,  84,  85,  86,  87,  88,  89,  90,  91,\n",
       "         92,  93,  94,  95,  96,  97,  98,  99, 100, 101, 102, 103, 104,\n",
       "        105, 106, 107, 108, 109, 110, 111, 112, 113, 114, 115, 116, 117,\n",
       "        118, 119, 120, 121, 122, 123, 124, 125, 126, 127, 128, 129, 130,\n",
       "        131, 132, 133, 134, 135]),\n",
       " array([1, 2, 1, 1, 1, 1, 1, 1, 1, 1, 1, 1, 1, 1, 1, 1, 1, 1, 1, 1, 1, 1,\n",
       "        1, 1, 1, 1, 1, 1, 1, 1, 1, 1, 1, 1, 1, 1, 1, 1, 1, 1, 1, 1, 1, 1,\n",
       "        1, 1, 1, 1, 1, 1, 1, 1, 1, 1, 1, 1, 1, 1, 1, 1, 1, 1, 1, 1, 1, 1,\n",
       "        1, 1, 1, 1, 1, 1, 1, 1, 1, 1, 1, 1, 1, 1, 1, 1, 1, 1, 1, 1, 1, 1,\n",
       "        1, 1, 1, 1, 1, 1, 1, 1, 1, 1, 1, 1, 1, 1, 1, 1, 1, 1, 1, 1, 1, 1,\n",
       "        1, 1, 1, 1, 1, 1, 1, 1, 1, 1, 1, 1, 1, 1, 1, 1, 1, 1, 1, 1, 1, 1,\n",
       "        1, 1, 1]))"
      ]
     },
     "execution_count": 21,
     "metadata": {},
     "output_type": "execute_result"
    }
   ],
   "source": [
    "np.unique(group, return_counts=True)"
   ]
  },
  {
   "cell_type": "code",
   "execution_count": 22,
   "metadata": {},
   "outputs": [],
   "source": [
    "def cluster_hierarchically(active_sites):\n",
    "    \"\"\"\n",
    "    Cluster the given set of ActiveSite instances using a hierarchical algorithm.                                                                  #\n",
    "\n",
    "    Input: a list of ActiveSite instances\n",
    "    Output: a list of clusterings\n",
    "            (each clustering is a list of lists of Sequence objects)\n",
    "    \"\"\"\n",
    "    group = np.array(as_num) #creating cluster labels\n",
    "    dist_matrix = np.zeros((len(as_num), len(as_num))) # create upper triangular distance matrix recording similarities for each pair of active sites\n",
    "    for row in as_num: #going through rows of distance matrix\n",
    "        for col in range(row,len(as_num)): #going through columns of distance matrix\n",
    "            similarity = compute_similarity(active_site[row], active_site[col]) #calculate similarity\n",
    "            dist_matrix[row, col] = similarity #input the similarity into the proper location in matrix\n",
    "        \n",
    "    for row in as_num: #NaN-ing redundant values in matrix to make upper triangular matrix\n",
    "        for col in range(0,row+1):\n",
    "            dist_matrix[row, col] = np.NaN\n",
    "            \n",
    "    k = 3 #final number of clusters--set at 3 to better compare to the 3 clusters from Objective 2\n",
    "    while len(np.unique(group)) > k: #the algorithm will run until I've reached my desired number of clusters\n",
    "        min_similarity(dist_matrix, group) #calculating\n",
    "        \n",
    "    cluster_labels = np.unique(group) #returns a list of arrays of my clusters\n",
    "    clusterings = []\n",
    "    for cluster in cluster_labels:\n",
    "        clusterings.append(np.where(group == cluster))\n",
    "        ##Note: doing this somehow gave me a list returning tuples that then returns an array\n",
    "        \n",
    "        \n",
    "    #instead turns the previous weird list of tuples of arrays into a list of list of lists (couldn't figure out how to mkae it just a list of lists)\n",
    "    NN_clusters_list = [] \n",
    "    for cluster in clusterings:\n",
    "        clustering = [l.tolist() for l in cluster]\n",
    "        NN_clusters_list.append(clustering)\n",
    "    \n",
    "\n",
    "\n",
    "    return NN_clusters_list\n"
   ]
  },
  {
   "cell_type": "code",
   "execution_count": 23,
   "metadata": {},
   "outputs": [],
   "source": [
    "NN_clusters = cluster_hierarchically(active_site)"
   ]
  },
  {
   "cell_type": "code",
   "execution_count": 24,
   "metadata": {},
   "outputs": [
    {
     "data": {
      "text/plain": [
       "[[[0,\n",
       "   1,\n",
       "   2,\n",
       "   3,\n",
       "   4,\n",
       "   5,\n",
       "   6,\n",
       "   7,\n",
       "   8,\n",
       "   9,\n",
       "   10,\n",
       "   11,\n",
       "   12,\n",
       "   13,\n",
       "   14,\n",
       "   15,\n",
       "   16,\n",
       "   17,\n",
       "   20,\n",
       "   21,\n",
       "   22,\n",
       "   23,\n",
       "   24,\n",
       "   25,\n",
       "   26,\n",
       "   27,\n",
       "   28,\n",
       "   29,\n",
       "   30,\n",
       "   31,\n",
       "   32,\n",
       "   33,\n",
       "   34,\n",
       "   35,\n",
       "   36,\n",
       "   37,\n",
       "   38,\n",
       "   39,\n",
       "   40,\n",
       "   41,\n",
       "   42,\n",
       "   43,\n",
       "   44,\n",
       "   45,\n",
       "   46,\n",
       "   47,\n",
       "   48,\n",
       "   49,\n",
       "   50,\n",
       "   51,\n",
       "   52,\n",
       "   53,\n",
       "   54,\n",
       "   55,\n",
       "   56,\n",
       "   57,\n",
       "   58,\n",
       "   59,\n",
       "   60,\n",
       "   61,\n",
       "   62,\n",
       "   63,\n",
       "   64,\n",
       "   65,\n",
       "   66,\n",
       "   68,\n",
       "   69,\n",
       "   70,\n",
       "   71,\n",
       "   72,\n",
       "   73,\n",
       "   74,\n",
       "   75,\n",
       "   76,\n",
       "   77,\n",
       "   78,\n",
       "   79,\n",
       "   80,\n",
       "   81,\n",
       "   82,\n",
       "   83,\n",
       "   84,\n",
       "   85,\n",
       "   86,\n",
       "   87,\n",
       "   88,\n",
       "   89,\n",
       "   90,\n",
       "   91,\n",
       "   92,\n",
       "   93,\n",
       "   94,\n",
       "   95,\n",
       "   96,\n",
       "   97,\n",
       "   98,\n",
       "   99,\n",
       "   100,\n",
       "   101,\n",
       "   104,\n",
       "   105,\n",
       "   106,\n",
       "   107,\n",
       "   108,\n",
       "   109,\n",
       "   110,\n",
       "   111,\n",
       "   112,\n",
       "   113,\n",
       "   114,\n",
       "   115,\n",
       "   116,\n",
       "   118,\n",
       "   119,\n",
       "   121,\n",
       "   122,\n",
       "   123,\n",
       "   124,\n",
       "   126,\n",
       "   127,\n",
       "   128,\n",
       "   129,\n",
       "   130,\n",
       "   131,\n",
       "   132,\n",
       "   133,\n",
       "   134,\n",
       "   135]],\n",
       " [[18, 19]],\n",
       " [[67, 102, 103, 117, 120, 125]]]"
      ]
     },
     "execution_count": 24,
     "metadata": {},
     "output_type": "execute_result"
    }
   ],
   "source": [
    "NN_clusters"
   ]
  },
  {
   "cell_type": "markdown",
   "metadata": {},
   "source": [
    "I'm visualizing this in a similar way to how I visualized Objective 2--using PCA to reduce 20-D to 2D space."
   ]
  },
  {
   "cell_type": "code",
   "execution_count": 25,
   "metadata": {},
   "outputs": [],
   "source": [
    "#using the same PCs I already calculated from my PCA in Objective 2, but I'm now adding labels based \n",
    "#off my Objective 3 clustering algorithm rather than Objective 2's.\n",
    "\n",
    "NN_visual = pd.DataFrame({\"PC1\": proj_aa[:,0], \"PC2\": proj_aa[:,1], \"Labels\": np.NaN})\n",
    "for i in NN_clusters[0]:\n",
    "    NN_visual.loc[i, \"Labels\"] = 0\n",
    "for i in NN_clusters[1]:\n",
    "    NN_visual.loc[i, \"Labels\"] = 1\n",
    "for i in NN_clusters[2]:\n",
    "    NN_visual.loc[i, \"Labels\"] = 2"
   ]
  },
  {
   "cell_type": "code",
   "execution_count": 26,
   "metadata": {},
   "outputs": [
    {
     "data": {
      "text/html": [
       "<div>\n",
       "<style scoped>\n",
       "    .dataframe tbody tr th:only-of-type {\n",
       "        vertical-align: middle;\n",
       "    }\n",
       "\n",
       "    .dataframe tbody tr th {\n",
       "        vertical-align: top;\n",
       "    }\n",
       "\n",
       "    .dataframe thead th {\n",
       "        text-align: right;\n",
       "    }\n",
       "</style>\n",
       "<table border=\"1\" class=\"dataframe\">\n",
       "  <thead>\n",
       "    <tr style=\"text-align: right;\">\n",
       "      <th></th>\n",
       "      <th>PC1</th>\n",
       "      <th>PC2</th>\n",
       "      <th>Labels</th>\n",
       "    </tr>\n",
       "  </thead>\n",
       "  <tbody>\n",
       "    <tr>\n",
       "      <td>0</td>\n",
       "      <td>-1.659441</td>\n",
       "      <td>-1.757551</td>\n",
       "      <td>0.0</td>\n",
       "    </tr>\n",
       "    <tr>\n",
       "      <td>1</td>\n",
       "      <td>-4.265214</td>\n",
       "      <td>0.275443</td>\n",
       "      <td>0.0</td>\n",
       "    </tr>\n",
       "    <tr>\n",
       "      <td>2</td>\n",
       "      <td>-1.351538</td>\n",
       "      <td>-0.526808</td>\n",
       "      <td>0.0</td>\n",
       "    </tr>\n",
       "    <tr>\n",
       "      <td>3</td>\n",
       "      <td>-0.535318</td>\n",
       "      <td>-1.321002</td>\n",
       "      <td>0.0</td>\n",
       "    </tr>\n",
       "    <tr>\n",
       "      <td>4</td>\n",
       "      <td>-4.688847</td>\n",
       "      <td>-1.772603</td>\n",
       "      <td>0.0</td>\n",
       "    </tr>\n",
       "    <tr>\n",
       "      <td>...</td>\n",
       "      <td>...</td>\n",
       "      <td>...</td>\n",
       "      <td>...</td>\n",
       "    </tr>\n",
       "    <tr>\n",
       "      <td>131</td>\n",
       "      <td>-1.615906</td>\n",
       "      <td>0.416515</td>\n",
       "      <td>0.0</td>\n",
       "    </tr>\n",
       "    <tr>\n",
       "      <td>132</td>\n",
       "      <td>0.450225</td>\n",
       "      <td>0.124649</td>\n",
       "      <td>0.0</td>\n",
       "    </tr>\n",
       "    <tr>\n",
       "      <td>133</td>\n",
       "      <td>-1.615906</td>\n",
       "      <td>0.416515</td>\n",
       "      <td>0.0</td>\n",
       "    </tr>\n",
       "    <tr>\n",
       "      <td>134</td>\n",
       "      <td>3.544170</td>\n",
       "      <td>-0.212100</td>\n",
       "      <td>0.0</td>\n",
       "    </tr>\n",
       "    <tr>\n",
       "      <td>135</td>\n",
       "      <td>-0.255554</td>\n",
       "      <td>-0.563600</td>\n",
       "      <td>0.0</td>\n",
       "    </tr>\n",
       "  </tbody>\n",
       "</table>\n",
       "<p>136 rows × 3 columns</p>\n",
       "</div>"
      ],
      "text/plain": [
       "          PC1       PC2  Labels\n",
       "0   -1.659441 -1.757551     0.0\n",
       "1   -4.265214  0.275443     0.0\n",
       "2   -1.351538 -0.526808     0.0\n",
       "3   -0.535318 -1.321002     0.0\n",
       "4   -4.688847 -1.772603     0.0\n",
       "..        ...       ...     ...\n",
       "131 -1.615906  0.416515     0.0\n",
       "132  0.450225  0.124649     0.0\n",
       "133 -1.615906  0.416515     0.0\n",
       "134  3.544170 -0.212100     0.0\n",
       "135 -0.255554 -0.563600     0.0\n",
       "\n",
       "[136 rows x 3 columns]"
      ]
     },
     "execution_count": 26,
     "metadata": {},
     "output_type": "execute_result"
    }
   ],
   "source": [
    "NN_visual"
   ]
  },
  {
   "cell_type": "code",
   "execution_count": 27,
   "metadata": {},
   "outputs": [
    {
     "data": {
      "image/png": "[encoded data removed]",
      "text/plain": [
       "<Figure size 432x288 with 1 Axes>"
      ]
     },
     "metadata": {
      "needs_background": "light"
     },
     "output_type": "display_data"
    }
   ],
   "source": [
    "sns.scatterplot(x=\"PC1\", y=\"PC2\", hue=\"Labels\", data=NN_visual, legend=False);"
   ]
  },
  {
   "cell_type": "markdown",
   "metadata": {},
   "source": [
    "The clusters appear a bit funky--there are two clusters whose points within the cluster are farther away from points in nearby clusters. However, this can probably be attributed to the fact that I performed my clustering in 20-dimensional space while PCA condenses this down to a 2D space, meaning that this plot isn't the best visualization for the distance between these points in their true 20-D space."
   ]
  },
  {
   "cell_type": "markdown",
   "metadata": {},
   "source": [
    "## Objective #4: \n",
    "*Implement a function to measure the quality of your clusterings.*"
   ]
  },
  {
   "cell_type": "markdown",
   "metadata": {},
   "source": [
    "I will be implementing something like the Silhouette score to measure my cluster qualities. My goal is as follows: I'm not particularly confident in how my PCA reduced my 20D space, as it now appears that my clusters have greater distance within clusters than outside clusters. By performing Silhouette score in my 20D space, I can see if that is indeed true or not.\n",
    "\n",
    "As a result, I want my function to return the averages across all 136 active sites of:\n",
    "-a, the average distances between an active site and all other active sites within the same cluster\n",
    "-b, the average distances between an active site and all other active sites in different clusters\n",
    "-s, the absolute value of (1- (a/b)). In this case, s will give an overall Silhouette-like score between 0 and 1 that expresses how close together points within a cluster are to the points outside a cluster. The closer to 1, the more close together points within a cluster are compared to its outside cluster points."
   ]
  },
  {
   "cell_type": "code",
   "execution_count": 28,
   "metadata": {},
   "outputs": [],
   "source": [
    "def calculate_a_p(clusterings, df): #calculates avg distance between a point and data points within same cluster\n",
    "    a_list = []\n",
    "    for cluster in range(len(clusterings)):\n",
    "        cluster_pt = cluster\n",
    "        for activesite in clusterings[cluster]:\n",
    "            active_site_pt = activesite\n",
    "            active_site_df = df.loc[df[\"Site_A\"] == active_site_pt, :]\n",
    "            active_site_2_df = active_site_df.loc[active_site_df[\"Site_B\"].isin(clusterings[cluster_pt])]\n",
    "            a_list.append(active_site_2_df[\"Similarity\"].mean())\n",
    "    return a_list #list with the average distance betwen that point and datapoints within same cluster for all points\n",
    "    \n",
    "    "
   ]
  },
  {
   "cell_type": "code",
   "execution_count": 30,
   "metadata": {},
   "outputs": [
    {
     "data": {
      "text/plain": [
       "[0.6016566803798832,\n",
       " 0.560407742041967,\n",
       " 0.5933779679349067,\n",
       " 0.5427430344334903,\n",
       " 0.535257031933025,\n",
       " 0.5316926275717512,\n",
       " 0.48968884267800195,\n",
       " 0.48968884267800195,\n",
       " 0.4537498628801053,\n",
       " 0.48968884267800195,\n",
       " 0.617049359343355,\n",
       " 0.6138099911016665,\n",
       " 0.5231641504238421,\n",
       " 0.5427430344334903,\n",
       " 0.617049359343355,\n",
       " 0.48968884267800195,\n",
       " 0.44953832782473296,\n",
       " 0.5687074955492276,\n",
       " 0.6320121522599689,\n",
       " 0.48968884267800195,\n",
       " 0.5316926275717512,\n",
       " 0.44611475831910413,\n",
       " 0.44953832782473296,\n",
       " 0.5844522215413905,\n",
       " 0.5322405351250961,\n",
       " 0.5316926275717512,\n",
       " 0.5316926275717512,\n",
       " 0.48968884267800195,\n",
       " 0.44953832782473296,\n",
       " 0.5027855831425592,\n",
       " 0.5689597960829442,\n",
       " 0.48968884267800195,\n",
       " 0.4572248523497771,\n",
       " 0.5933779679349067,\n",
       " 0.6138099911016665,\n",
       " 0.5590553700773482,\n",
       " 0.6138099911016665,\n",
       " 0.48968884267800195,\n",
       " 0.582848842735846,\n",
       " 0.44953832782473296,\n",
       " 0.6320121522599689,\n",
       " 0.5027855831425592,\n",
       " 0.624980126529252,\n",
       " 0.5316926275717512,\n",
       " 0.5231641504238421,\n",
       " 0.5316926275717512,\n",
       " 0.5689597960829442,\n",
       " 0.5364768339220556,\n",
       " 0.5844522215413905,\n",
       " 0.4572248523497771,\n",
       " 0.5590553700773482,\n",
       " 0.4537498628801053,\n",
       " 0.5316926275717512,\n",
       " 0.5427430344334903,\n",
       " 0.5231641504238421,\n",
       " 0.5689597960829442,\n",
       " 0.5316926275717512,\n",
       " 0.5316926275717512,\n",
       " 0.48226376747501365,\n",
       " 0.44953832782473296,\n",
       " 0.5316926275717512,\n",
       " 0.5316926275717512,\n",
       " 0.4537498628801053,\n",
       " 0.5316926275717512,\n",
       " 0.5933779679349067,\n",
       " 0.5316926275717512,\n",
       " 0.4537498628801053,\n",
       " 0.5590553700773482,\n",
       " 0.5231641504238421,\n",
       " 0.5316926275717512,\n",
       " 0.617049359343355,\n",
       " 0.44611475831910413,\n",
       " 0.535257031933025,\n",
       " 0.617049359343355,\n",
       " 0.6583787864033722,\n",
       " 0.5316926275717512,\n",
       " 0.5316926275717512,\n",
       " 0.5687074955492276,\n",
       " 0.5844522215413905,\n",
       " 0.5316926275717512,\n",
       " 0.5316926275717512,\n",
       " 0.5844522215413905,\n",
       " 0.5231641504238421,\n",
       " 0.5316926275717512,\n",
       " 0.617049359343355,\n",
       " 0.2039566405018219,\n",
       " 0.3283358615956552,\n",
       " 0.29220172183032517,\n",
       " 0.46584387726118465,\n",
       " 0.3664363549055188,\n",
       " 0.2039566405018219,\n",
       " 0.37165437686694314,\n",
       " 0.2039566405018219,\n",
       " 0.2039566405018219,\n",
       " 0.2039566405018219,\n",
       " 0.3664363549055188,\n",
       " 0.2039566405018219,\n",
       " 0.2039566405018219,\n",
       " 0.2039566405018219,\n",
       " 0.2039566405018219,\n",
       " 0.37165437686694314,\n",
       " 0.41700340223564125,\n",
       " 0.2039566405018219,\n",
       " 0.3283358615956552,\n",
       " 0.2039566405018219,\n",
       " 0.3283358615956552,\n",
       " 0.41700340223564125,\n",
       " 0.2039566405018219,\n",
       " 0.2039566405018219,\n",
       " 0.3283358615956552,\n",
       " 0.2039566405018219,\n",
       " 0.2039566405018219,\n",
       " 0.6937241575072816,\n",
       " 0.6937241575072816,\n",
       " 0.48862489211954835,\n",
       " 0.48581352387421256,\n",
       " 0.5298337308610606,\n",
       " 0.5211632769400459,\n",
       " 0.4840658065641963,\n",
       " 0.4840658065641963,\n",
       " 0.7122366590834204,\n",
       " 0.465752329190306,\n",
       " 0.579327915578097,\n",
       " 0.5211632769400459,\n",
       " 0.5505203570519789,\n",
       " 0.47338822425070637,\n",
       " 0.48862489211954835,\n",
       " 0.6323590610008848,\n",
       " 0.579327915578097,\n",
       " 0.6323590610008848,\n",
       " 0.579327915578097,\n",
       " 0.7122366590834204,\n",
       " 0.6460504193737754,\n",
       " 0.579327915578097,\n",
       " 0.5635074289874329,\n",
       " 0.5298337308610606]"
      ]
     },
     "execution_count": 30,
     "metadata": {},
     "output_type": "execute_result"
    }
   ],
   "source": [
    "a_list = calculate_a_p(partition_cluster, df)\n",
    "a_list"
   ]
  },
  {
   "cell_type": "code",
   "execution_count": 31,
   "metadata": {},
   "outputs": [],
   "source": [
    "def calculate_b_p(clusterings, df): #calculates avg distance between a point and data points within same cluster\n",
    "    b_list = []\n",
    "    for cluster in range(len(clusterings)):\n",
    "        cluster_pt = cluster\n",
    "        for activesite in clusterings[cluster]:\n",
    "            active_site_pt = activesite\n",
    "            active_site_df = df.loc[df[\"Site_A\"] == active_site_pt, :]\n",
    "            active_site_2_df = active_site_df.loc[~active_site_df[\"Site_B\"].isin(clusterings[cluster_pt])]\n",
    "            b_list.append(active_site_2_df[\"Similarity\"].mean())\n",
    "    return b_list #list with the average distance betwen that point and datapoints within same cluster for all points"
   ]
  },
  {
   "cell_type": "code",
   "execution_count": 32,
   "metadata": {},
   "outputs": [
    {
     "data": {
      "text/plain": [
       "(136,)"
      ]
     },
     "execution_count": 32,
     "metadata": {},
     "output_type": "execute_result"
    }
   ],
   "source": [
    "b_list = calculate_b_p(partition_cluster, df)\n",
    "np.shape(b_list)"
   ]
  },
  {
   "cell_type": "code",
   "execution_count": 35,
   "metadata": {},
   "outputs": [],
   "source": [
    "def pseudo_silhouette_score_p(clusterings, df):\n",
    "    '''\n",
    "    See my description right below Objective 4 for a description of what this function does.\n",
    "    \n",
    "    Inputs: clusterings -- the outputs from my clustering functions\n",
    "            df -- a Pandas dataframe containing the distances of every active site to every other active site.\n",
    "                    I created this in Objective A to make my histogram showing the distribution of all active sites.\n",
    "    \n",
    "    Returns: the average a, b, and s across all 136 data points.\n",
    "    '''\n",
    "    \n",
    "    a_list = calculate_a_p(clusterings, df) #returning my list of a values for all 136 active sites\n",
    "    b_list = calculate_b_p(clusterings, df) #returning my list of b values for all 13t active sites\n",
    "    \n",
    "    \n",
    "    s_list = np.absolute(np.full((len(a_list)), 1) - np.divide(a_list,b_list)) #returning list of s values\n",
    "    \n",
    "    #averaging my a, b, and s values to get a number across the whole 136 active point dataset\n",
    "    a_avg = np.mean(a_list)\n",
    "    b_avg = np.mean(b_list)\n",
    "    s_avg = np.mean(s_list)\n",
    "    \n",
    "    return a_avg, b_avg, s_avg\n",
    "    "
   ]
  },
  {
   "cell_type": "code",
   "execution_count": 36,
   "metadata": {},
   "outputs": [],
   "source": [
    "a, b, s = pseudo_silhouette_score_p(partition_cluster, df)"
   ]
  },
  {
   "cell_type": "code",
   "execution_count": 37,
   "metadata": {},
   "outputs": [
    {
     "name": "stdout",
     "output_type": "stream",
     "text": [
      "FOR MY PARTITIONING ALGORITHM:\n",
      "My average a score is: 0.4903369100423171\n",
      "My average b score is: 0.6457588460685474\n",
      "My average s score is: 0.28915901854953624\n"
     ]
    }
   ],
   "source": [
    "print(\"FOR MY PARTITIONING ALGORITHM:\")\n",
    "print(\"My average a score is:\", a)\n",
    "print(\"My average b score is:\", b)\n",
    "print(\"My average s score is:\", s)"
   ]
  },
  {
   "cell_type": "markdown",
   "metadata": {},
   "source": [
    "My paritioning algorithm appears to have a somewhat middling s score, suggesting my clusters don't represent very \"bundled\" or close-knit values as compared to their surrounding values. Although it's a good sign the average distance within a cluster (a) is lower than the average distance from points outside the cluster (b), a and b are still rather close to each other."
   ]
  },
  {
   "cell_type": "markdown",
   "metadata": {},
   "source": [
    "When trying to implmenent this function for my hierarchical clustering, I realize my function is somehow wrapped in another list which I can't seem to get rid of after several hours of debugging. Since I think learning about clustering algorithms and applications is a better use of time than trying to figure out how to turn a list of list of lists into simply a list of list, I am just slightly rewriting my code for use with my hierarchical function."
   ]
  },
  {
   "cell_type": "code",
   "execution_count": 41,
   "metadata": {},
   "outputs": [],
   "source": [
    "def calculate_a_h(clusterings, df): #calculates avg distance between a point and data points within same cluster\n",
    "    a_list = []\n",
    "    for cluster in range(len(clusterings)):\n",
    "        cluster_pt = cluster\n",
    "        for extralist in range(len(clusterings[cluster])):\n",
    "            for activesite in clusterings[cluster][extralist]:\n",
    "                active_site_pt = activesite\n",
    "                active_site_df = df.loc[df[\"Site_A\"] == active_site_pt, :]\n",
    "                active_site_2_df = active_site_df.loc[active_site_df[\"Site_B\"].isin(clusterings[cluster_pt][extralist])]\n",
    "                a_list.append(active_site_2_df[\"Similarity\"].mean())\n",
    "    return a_list #list with the average distance betwen that point and datapoints within same cluster for all points"
   ]
  },
  {
   "cell_type": "code",
   "execution_count": 42,
   "metadata": {},
   "outputs": [
    {
     "data": {
      "text/plain": [
       "[0.567585450424485,\n",
       " 0.49432770836445017,\n",
       " 0.4997921613201636,\n",
       " 0.5335119135928769,\n",
       " 0.49192638825861573,\n",
       " 0.5403947074201773,\n",
       " 0.4909406849974741,\n",
       " 0.5420229199429518,\n",
       " 0.4835399526845981,\n",
       " 0.6542593034911973,\n",
       " 0.5867523506721227,\n",
       " 0.577257604903362,\n",
       " 0.5867523506721227,\n",
       " 0.4473286684169119,\n",
       " 0.5867523506721227,\n",
       " 0.6070407475871742,\n",
       " 0.5768955872021533,\n",
       " 0.5017582776314892,\n",
       " 0.49432770836445017,\n",
       " 0.5745356885353529,\n",
       " 0.5743319000904239,\n",
       " 0.5847253122540372,\n",
       " 0.4909406849974741,\n",
       " 0.5459647494034146,\n",
       " 0.6070407475871742,\n",
       " 0.5867523506721227,\n",
       " 0.5265996651067435,\n",
       " 0.49432770836445017,\n",
       " 0.49432770836445017,\n",
       " 0.5254028369171484,\n",
       " 0.6118628955180362,\n",
       " 0.5867523506721227,\n",
       " 0.49432770836445017,\n",
       " 0.5784101390430887,\n",
       " 0.6542593034911973,\n",
       " 0.5058578652081532,\n",
       " 0.5265996651067435,\n",
       " 0.5397192660620189,\n",
       " 0.577257604903362,\n",
       " 0.5483065167743487,\n",
       " 0.6219519370123383,\n",
       " 0.6542593034911973,\n",
       " 0.6542593034911973,\n",
       " 0.5867523506721227,\n",
       " 0.5265996651067435,\n",
       " 0.5899871337760372,\n",
       " 0.49432770836445017,\n",
       " 0.5397192660620189,\n",
       " 0.5227010514569139,\n",
       " 0.5867523506721227,\n",
       " 0.5212370725399167,\n",
       " 0.8357650783046753,\n",
       " 0.5403947074201773,\n",
       " 0.5768955872021533,\n",
       " 0.49432770836445017,\n",
       " 0.49432770836445017,\n",
       " 0.5180091649122107,\n",
       " 0.5768955872021533,\n",
       " 0.5867523506721227,\n",
       " 0.49432770836445017,\n",
       " 0.5428559210187536,\n",
       " 0.5265996651067435,\n",
       " 0.531078052812554,\n",
       " 0.6118628955180362,\n",
       " 0.5899871337760372,\n",
       " 0.5759654318901674,\n",
       " 0.5847253122540372,\n",
       " 0.6542593034911973,\n",
       " 0.5784101390430887,\n",
       " 0.5017582776314892,\n",
       " 0.5730585763819688,\n",
       " 0.6542593034911973,\n",
       " 0.5227010514569139,\n",
       " 0.48311098032703204,\n",
       " 0.5483065167743487,\n",
       " 0.5212370725399167,\n",
       " 0.6380962288662972,\n",
       " 0.5180091649122107,\n",
       " 0.4473286684169119,\n",
       " 0.6542593034911973,\n",
       " 0.5439363731346083,\n",
       " 0.4909406849974741,\n",
       " 0.5017582776314892,\n",
       " 0.5227010514569139,\n",
       " 0.6542593034911973,\n",
       " 0.49432770836445017,\n",
       " 0.6542593034911973,\n",
       " 0.5688879948793037,\n",
       " 0.5265996651067435,\n",
       " 0.6542593034911973,\n",
       " 0.6542593034911973,\n",
       " 0.5335119135928769,\n",
       " 0.4473286684169119,\n",
       " 0.6542593034911973,\n",
       " 0.5403947074201773,\n",
       " 0.49432770836445017,\n",
       " 0.5335119135928769,\n",
       " 0.6380962288662972,\n",
       " 0.5745356885353529,\n",
       " 0.6542593034911973,\n",
       " 0.49432770836445017,\n",
       " 0.4473286684169119,\n",
       " 0.5180091649122107,\n",
       " 0.49432770836445017,\n",
       " 0.5017582776314892,\n",
       " 0.6542593034911973,\n",
       " 0.6070407475871742,\n",
       " 0.5335119135928769,\n",
       " 0.5058578652081532,\n",
       " 0.4835399526845981,\n",
       " 0.6070407475871742,\n",
       " 0.6326016185867993,\n",
       " 0.6542593034911973,\n",
       " 0.6542593034911973,\n",
       " 0.5254028369171484,\n",
       " 0.8357650783046753,\n",
       " 0.5483065167743487,\n",
       " 0.6941341836928192,\n",
       " 0.6178765202172921,\n",
       " 0.5459647494034146,\n",
       " 0.6542593034911973,\n",
       " 0.6542593034911973,\n",
       " 0.5483065167743487,\n",
       " 0.49432770836445017,\n",
       " 0.5017582776314892,\n",
       " 0.49432770836445017,\n",
       " 0.6542593034911973,\n",
       " 0.6070407475871742,\n",
       " 0.0,\n",
       " 0.0,\n",
       " 0.18257418583505539,\n",
       " 0.36514837167011077,\n",
       " 0.18257418583505539,\n",
       " 0.36514837167011077,\n",
       " 0.18257418583505539,\n",
       " 0.18257418583505539]"
      ]
     },
     "execution_count": 42,
     "metadata": {},
     "output_type": "execute_result"
    }
   ],
   "source": [
    "calculate_a_h(NN_clusters, df)"
   ]
  },
  {
   "cell_type": "code",
   "execution_count": 43,
   "metadata": {},
   "outputs": [
    {
     "data": {
      "text/plain": [
       "0.4903369100423171"
      ]
     },
     "execution_count": 43,
     "metadata": {},
     "output_type": "execute_result"
    }
   ],
   "source": [
    "np.mean(calculate_a_p(partition_cluster, df))"
   ]
  },
  {
   "cell_type": "code",
   "execution_count": 44,
   "metadata": {},
   "outputs": [],
   "source": [
    "def calculate_b_h(clusterings, df): #calculates avg distance between a point and data points within same cluster\n",
    "    b_list = []\n",
    "    for cluster in range(len(clusterings)):\n",
    "        cluster_pt = cluster\n",
    "        for extralist in range(len(clusterings[cluster])):\n",
    "            for activesite in clusterings[cluster][extralist]:\n",
    "                active_site_pt = activesite\n",
    "                active_site_df = df.loc[df[\"Site_A\"] == active_site_pt, :]\n",
    "                active_site_2_df = active_site_df.loc[~active_site_df[\"Site_B\"].isin(clusterings[cluster_pt][extralist])]\n",
    "                b_list.append(active_site_2_df[\"Similarity\"].mean())\n",
    "    return b_list #list with the average distance betwen that point and datapoints within same cluster for all points"
   ]
  },
  {
   "cell_type": "code",
   "execution_count": 45,
   "metadata": {},
   "outputs": [],
   "source": [
    "def pseudo_silhouette_score_h(clusterings, df):\n",
    "    '''\n",
    "    This function is for my hierarchical clustering algorithm. See my description right below Objective 4 for a description of what this function does.\n",
    "    \n",
    "    Inputs: clusterings -- the outputs from my clustering functions\n",
    "            df -- a Pandas dataframe containing the distances of every active site to every other active site.\n",
    "                    I created this in Objective A to make my histogram showing the distribution of all active sites.\n",
    "    \n",
    "    Returns: the average a, b, and s across all 136 data points.\n",
    "    '''\n",
    "    \n",
    "    a_list = calculate_a_h(clusterings, df) #returning my list of a values for all 136 active sites\n",
    "    b_list = calculate_b_h(clusterings, df) #returning my list of b values for all 13t active sites\n",
    "    \n",
    "    \n",
    "    s_list = np.absolute(np.full((len(a_list)), 1) - np.divide(a_list,b_list)) #returning list of s values\n",
    "    \n",
    "    #averaging my a, b, and s values to get a number across the whole 136 active point dataset\n",
    "    a_avg = np.mean(a_list)\n",
    "    b_avg = np.mean(b_list)\n",
    "    s_avg = np.mean(s_list)\n",
    "    \n",
    "    return a_avg, b_avg, s_avg"
   ]
  },
  {
   "cell_type": "code",
   "execution_count": 46,
   "metadata": {},
   "outputs": [],
   "source": [
    "ac, bc, sc = pseudo_silhouette_score_h(NN_clusters, df)"
   ]
  },
  {
   "cell_type": "code",
   "execution_count": 47,
   "metadata": {},
   "outputs": [
    {
     "name": "stdout",
     "output_type": "stream",
     "text": [
      "FOR MY HIERARCHICAL ALGORITHM:\n",
      "My average a score is: 0.5406375012986019\n",
      "My average b score is: 0.7592778131526741\n",
      "My average s score is: 0.28688251228457673\n"
     ]
    }
   ],
   "source": [
    "print(\"FOR MY HIERARCHICAL ALGORITHM:\")\n",
    "print(\"My average a score is:\", ac)\n",
    "print(\"My average b score is:\", bc)\n",
    "print(\"My average s score is:\", sc)"
   ]
  },
  {
   "cell_type": "markdown",
   "metadata": {},
   "source": [
    "My hierarchical algorithm appears to have an even worse s score, again suggesting my clusters don't represent very \"bundled\" or close-knit values as compared to their surrounding values. Although it's a good sign the average distance within a cluster (a) is lower than the average distance from points outside the cluster (b), a is worse than in my other algorithm and a and b are still rather close to each other."
   ]
  },
  {
   "cell_type": "markdown",
   "metadata": {},
   "source": [
    "## Objective #5: \n",
    "*Implement a function to compare your two clusterings*"
   ]
  },
  {
   "cell_type": "markdown",
   "metadata": {},
   "source": [
    "I plan to use the Jaccard coefficient, which is a way of measuring how similar two sample sets are. It returns a value between 0 and 1, with 1 being that the sets are the same and 0 the most dissimilar.\n",
    "\n",
    "I can perform the Jaccard coefficient to compare each of my clusters to its \"corresponding\" cluster for the other algorithm. To pick \"corresponding\" clusters, I'm simply going to choose the clusters which are closest in length to each other, i.e. the largest hierarchical cluster will be compared to the largest partitioning cluster."
   ]
  },
  {
   "cell_type": "code",
   "execution_count": 48,
   "metadata": {},
   "outputs": [
    {
     "name": "stdout",
     "output_type": "stream",
     "text": [
      "85\n",
      "27\n",
      "24\n"
     ]
    }
   ],
   "source": [
    "print(np.size(partition_cluster[0]))\n",
    "print(np.size(partition_cluster[1]))\n",
    "print(np.size(partition_cluster[2]))"
   ]
  },
  {
   "cell_type": "code",
   "execution_count": 49,
   "metadata": {},
   "outputs": [
    {
     "name": "stdout",
     "output_type": "stream",
     "text": [
      "128\n",
      "2\n",
      "6\n"
     ]
    }
   ],
   "source": [
    "print(np.size(NN_clusters[0][0]))\n",
    "print(np.size(NN_clusters[1][0]))\n",
    "print(np.size(NN_clusters[2][0]))"
   ]
  },
  {
   "cell_type": "code",
   "execution_count": 50,
   "metadata": {},
   "outputs": [],
   "source": [
    "def jac_coef(cluster1, cluster2):\n",
    "    s1 = set(cluster1)\n",
    "    s2 = set(cluster2)\n",
    "    return len(s1.intersection(s2)) / len(s1.union(s2))"
   ]
  },
  {
   "cell_type": "code",
   "execution_count": 51,
   "metadata": {},
   "outputs": [
    {
     "data": {
      "text/plain": [
       "0.6640625"
      ]
     },
     "execution_count": 51,
     "metadata": {},
     "output_type": "execute_result"
    }
   ],
   "source": [
    "cluster0 = jac_coef(partition_cluster[0], NN_clusters[0][0])\n",
    "cluster0"
   ]
  },
  {
   "cell_type": "code",
   "execution_count": 52,
   "metadata": {},
   "outputs": [
    {
     "data": {
      "text/plain": [
       "0.0"
      ]
     },
     "execution_count": 52,
     "metadata": {},
     "output_type": "execute_result"
    }
   ],
   "source": [
    "cluster1 = jac_coef(partition_cluster[1], NN_clusters[1][0])\n",
    "cluster1"
   ]
  },
  {
   "cell_type": "code",
   "execution_count": 53,
   "metadata": {},
   "outputs": [
    {
     "data": {
      "text/plain": [
       "0.25"
      ]
     },
     "execution_count": 53,
     "metadata": {},
     "output_type": "execute_result"
    }
   ],
   "source": [
    "cluster2 = jac_coef(partition_cluster[2], NN_clusters[2][0])\n",
    "cluster2"
   ]
  },
  {
   "cell_type": "markdown",
   "metadata": {},
   "source": [
    "My values of 0.66, 0, and 0.25 inform me that my clustering methods resulted in fairly dissimilar clusters, which was very unexpected. I expect that if I'd randomized the centroids for my paritioning clustering method differently, I could have easily gotten different clusters. This is likely why researchers will implement or repeat K-Means many times with different centroids values. However, given the amount of time I had to devote to debugging different parts of my homework, I simply did not have the time to implement this extra \"repeat K-Means with different centroids and take the average of my results\" method."
   ]
  },
  {
   "cell_type": "markdown",
   "metadata": {},
   "source": [
    "### Did your clusterings have any biological meaning? "
   ]
  },
  {
   "cell_type": "markdown",
   "metadata": {},
   "source": [
    "Based on the fact that my two different clustering algorithms appeared to cluster very differently from each other despite using the same \"similarity metric\" based on the jaccard coefficient, my semi-Silhouette score suggests poor quality, and my own visual inspection of my clusters following compression of my 20-D to 2-D space also gives me odd-to-interpret clusters, I am very hesitatnt to assign any true biological meaning to either of the clusters I produced using my paritioning or hierarchical clustering algorithm. However, given that some of my potential clusters--specifically cluster 1 and cluster 2 in my hierarchical clustering--had very few active sites, it is fairly straightfoward for me to visually inspect them to see if they appear to be at all similar."
   ]
  },
  {
   "cell_type": "markdown",
   "metadata": {},
   "source": [
    "For Cluster 1 in Hierarhcial Clustering, there is only active site 18 and active site 19. The compositions of these two active sites are below:"
   ]
  },
  {
   "cell_type": "code",
   "execution_count": 54,
   "metadata": {},
   "outputs": [
    {
     "name": "stdout",
     "output_type": "stream",
     "text": [
      "Active Site 18: [HIS 66, GLY 110, TYR 140, HIS 66, GLY 110, TYR 140, HIS 66, GLY 110, TYR 140]\n",
      "Active Site 19: [HIS 66, GLY 110, TYR 140]\n"
     ]
    }
   ],
   "source": [
    "print(\"Active Site 18:\",active_site[18].residues)\n",
    "print(\"Active Site 19:\", active_site[19].residues)"
   ]
  },
  {
   "cell_type": "markdown",
   "metadata": {},
   "source": [
    "Indeed, both active sites consist of only histidine, glycine, and tyrosine--in fact, they even have the same composition of his, gly, and tyr. The difference between the two active sites in this cluster is only that Active Site 18 is larger, something that is NOT captured by the similarity metric I chose to implement."
   ]
  },
  {
   "cell_type": "markdown",
   "metadata": {},
   "source": [
    "For Cluster 2 in Hierarchical Clustering, there are active sites 67, 102, 103, 117, 120, and 125."
   ]
  },
  {
   "cell_type": "code",
   "execution_count": 55,
   "metadata": {},
   "outputs": [
    {
     "name": "stdout",
     "output_type": "stream",
     "text": [
      "Active Site 67: [ALA 98, GLY 141, GLU 144, GLU 164, ALA 98, GLY 141, GLU 144, GLU 164, ALA 98, GLY 141, GLU 144, GLU 164, ALA 98, GLY 141, GLU 144, GLU 164, ALA 98, GLY 141, GLU 144, GLU 164, ALA 98, GLY 141, GLU 144, GLU 164]\n",
      "Active Site 102: [ALA 70, LEU 126, GLU 158]\n",
      "Active Site 103: [ALA 98, GLY 141, GLU 144, GLU 164, ALA 98, GLY 141, GLU 144, GLU 164, ALA 98, GLY 141, GLU 144, GLU 164, ALA 98, GLY 141, GLU 144, GLU 164, ALA 98, GLY 141, GLU 144, GLU 164, ALA 98, GLY 141, GLU 144, GLU 164]\n",
      "Active Site 117: [ALA 70, LEU 126, GLU 158]\n",
      "Active Site 120: [ALA 98, GLY 141, GLU 144, GLU 164, ALA 98, GLY 141, GLU 144, GLU 164, ALA 98, GLY 141, GLU 144, GLU 164, ALA 98, GLY 141, GLU 144, GLU 164, ALA 98, GLY 141, GLU 144, GLU 164, ALA 98, GLY 141, GLU 144, GLU 164]\n",
      "Active Site 125: [ALA 98, GLY 141, GLU 144, GLU 164, ALA 98, GLY 141, GLU 144, GLU 164, ALA 98, GLY 141, GLU 144, GLU 164, ALA 98, GLY 141, GLU 144, GLU 164, ALA 98, GLY 141, GLU 144, GLU 164, ALA 98, GLY 141, GLU 144, GLU 164]\n"
     ]
    }
   ],
   "source": [
    "print(\"Active Site 67:\",active_site[67].residues)\n",
    "print(\"Active Site 102:\", active_site[102].residues)\n",
    "print(\"Active Site 103:\",active_site[103].residues)\n",
    "print(\"Active Site 117:\", active_site[117].residues)\n",
    "print(\"Active Site 120:\",active_site[120].residues)\n",
    "print(\"Active Site 125:\", active_site[125].residues)"
   ]
  },
  {
   "cell_type": "markdown",
   "metadata": {},
   "source": [
    "These six active sites all appear to have high concentrations of Ala and Glu. Additionally, active sites then either also had some more Leu or some more Gly. As a result, this particular clustering could perhaps suggest that combinations of Ala, Leu, and Glu or Ala, Gly, and Glu have similar roles, although more experimentation is needed to back that up."
   ]
  },
  {
   "cell_type": "markdown",
   "metadata": {},
   "source": [
    "\n",
    "Nonetheless, even if I ignore my clusterings, I can still extract biological meaning from this homework using my similarity metric. In particular, my histogram of all distances from my similarity metric suggests possible biological meanings. For example: there are quite a lot of active sites showing ZERO distance, meaning that a lot of compositionality within active sites can be conserved."
   ]
  }
 ],
 "metadata": {
  "kernelspec": {
   "display_name": "Python 3",
   "language": "python",
   "name": "python3"
  },
  "language_info": {
   "codemirror_mode": {
    "name": "ipython",
    "version": 3
   },
   "file_extension": ".py",
   "mimetype": "text/x-python",
   "name": "python",
   "nbconvert_exporter": "python",
   "pygments_lexer": "ipython3",
   "version": "3.7.4"
  }
 },
 "nbformat": 4,
 "nbformat_minor": 2
}
